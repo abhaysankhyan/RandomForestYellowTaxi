{
 "cells": [
  {
   "cell_type": "code",
   "execution_count": 1,
   "id": "5dfb7d1c",
   "metadata": {},
   "outputs": [],
   "source": [
    "import os\n",
    "import pandas as pd\n",
    "import numpy as np\n",
    "import matplotlib.pyplot as plt\n",
    "import seaborn as sns\n",
    "\n",
    "from sklearn.model_selection import train_test_split"
   ]
  },
  {
   "cell_type": "code",
   "execution_count": 2,
   "id": "a09957b7",
   "metadata": {},
   "outputs": [],
   "source": [
    "os.chdir('D:\\Imarticus\\ML')"
   ]
  },
  {
   "cell_type": "code",
   "execution_count": 3,
   "id": "05cbd90b",
   "metadata": {},
   "outputs": [
    {
     "data": {
      "text/plain": [
       "['Covid 19',\n",
       " 'Crop_Recommendation_Model',\n",
       " 'data_dictionary_trip_records_yellow.pdf',\n",
       " 'Decision Tree',\n",
       " 'Ensemble',\n",
       " 'KNN',\n",
       " 'Linear Regression',\n",
       " 'Logistic Regression',\n",
       " 'LR',\n",
       " 'Notes251(AutoRecovered).xlsx',\n",
       " 'QA',\n",
       " 'SVM',\n",
       " 'Untitled2.ipynb',\n",
       " 'World Happiness Index',\n",
       " 'yellow_tripdata_2022-06.parquet',\n",
       " 'Zomato',\n",
       " 'zomato.csv']"
      ]
     },
     "execution_count": 3,
     "metadata": {},
     "output_type": "execute_result"
    }
   ],
   "source": [
    "os.listdir()"
   ]
  },
  {
   "cell_type": "code",
   "execution_count": 4,
   "id": "e00d430f",
   "metadata": {
    "scrolled": true
   },
   "outputs": [],
   "source": [
    "taxi_data=pd.read_parquet(r'yellow_tripdata_2022-06.parquet')"
   ]
  },
  {
   "cell_type": "code",
   "execution_count": 5,
   "id": "7707c103",
   "metadata": {},
   "outputs": [
    {
     "data": {
      "text/html": [
       "<div>\n",
       "<style scoped>\n",
       "    .dataframe tbody tr th:only-of-type {\n",
       "        vertical-align: middle;\n",
       "    }\n",
       "\n",
       "    .dataframe tbody tr th {\n",
       "        vertical-align: top;\n",
       "    }\n",
       "\n",
       "    .dataframe thead th {\n",
       "        text-align: right;\n",
       "    }\n",
       "</style>\n",
       "<table border=\"1\" class=\"dataframe\">\n",
       "  <thead>\n",
       "    <tr style=\"text-align: right;\">\n",
       "      <th></th>\n",
       "      <th>VendorID</th>\n",
       "      <th>tpep_pickup_datetime</th>\n",
       "      <th>tpep_dropoff_datetime</th>\n",
       "      <th>passenger_count</th>\n",
       "      <th>trip_distance</th>\n",
       "      <th>RatecodeID</th>\n",
       "      <th>store_and_fwd_flag</th>\n",
       "      <th>PULocationID</th>\n",
       "      <th>DOLocationID</th>\n",
       "      <th>payment_type</th>\n",
       "      <th>fare_amount</th>\n",
       "      <th>extra</th>\n",
       "      <th>mta_tax</th>\n",
       "      <th>tip_amount</th>\n",
       "      <th>tolls_amount</th>\n",
       "      <th>improvement_surcharge</th>\n",
       "      <th>total_amount</th>\n",
       "      <th>congestion_surcharge</th>\n",
       "      <th>airport_fee</th>\n",
       "    </tr>\n",
       "  </thead>\n",
       "  <tbody>\n",
       "    <tr>\n",
       "      <th>0</th>\n",
       "      <td>1</td>\n",
       "      <td>2022-06-01 00:25:41</td>\n",
       "      <td>2022-06-01 00:48:22</td>\n",
       "      <td>1.0</td>\n",
       "      <td>11.00</td>\n",
       "      <td>1.0</td>\n",
       "      <td>N</td>\n",
       "      <td>70</td>\n",
       "      <td>48</td>\n",
       "      <td>1</td>\n",
       "      <td>32.0</td>\n",
       "      <td>3.00</td>\n",
       "      <td>0.5</td>\n",
       "      <td>2.00</td>\n",
       "      <td>6.55</td>\n",
       "      <td>0.3</td>\n",
       "      <td>44.35</td>\n",
       "      <td>2.5</td>\n",
       "      <td>0.00</td>\n",
       "    </tr>\n",
       "    <tr>\n",
       "      <th>1</th>\n",
       "      <td>1</td>\n",
       "      <td>2022-06-01 00:44:40</td>\n",
       "      <td>2022-06-01 01:01:48</td>\n",
       "      <td>1.0</td>\n",
       "      <td>4.20</td>\n",
       "      <td>1.0</td>\n",
       "      <td>N</td>\n",
       "      <td>170</td>\n",
       "      <td>226</td>\n",
       "      <td>1</td>\n",
       "      <td>14.0</td>\n",
       "      <td>3.00</td>\n",
       "      <td>0.5</td>\n",
       "      <td>0.00</td>\n",
       "      <td>0.00</td>\n",
       "      <td>0.3</td>\n",
       "      <td>17.80</td>\n",
       "      <td>2.5</td>\n",
       "      <td>0.00</td>\n",
       "    </tr>\n",
       "    <tr>\n",
       "      <th>2</th>\n",
       "      <td>2</td>\n",
       "      <td>2022-06-01 00:23:07</td>\n",
       "      <td>2022-06-01 00:39:50</td>\n",
       "      <td>1.0</td>\n",
       "      <td>9.49</td>\n",
       "      <td>1.0</td>\n",
       "      <td>N</td>\n",
       "      <td>264</td>\n",
       "      <td>113</td>\n",
       "      <td>1</td>\n",
       "      <td>26.0</td>\n",
       "      <td>0.50</td>\n",
       "      <td>0.5</td>\n",
       "      <td>5.00</td>\n",
       "      <td>6.55</td>\n",
       "      <td>0.3</td>\n",
       "      <td>42.60</td>\n",
       "      <td>2.5</td>\n",
       "      <td>1.25</td>\n",
       "    </tr>\n",
       "    <tr>\n",
       "      <th>3</th>\n",
       "      <td>1</td>\n",
       "      <td>2022-06-01 00:25:53</td>\n",
       "      <td>2022-06-01 00:57:06</td>\n",
       "      <td>2.0</td>\n",
       "      <td>12.10</td>\n",
       "      <td>1.0</td>\n",
       "      <td>N</td>\n",
       "      <td>132</td>\n",
       "      <td>17</td>\n",
       "      <td>2</td>\n",
       "      <td>37.0</td>\n",
       "      <td>1.75</td>\n",
       "      <td>0.5</td>\n",
       "      <td>0.00</td>\n",
       "      <td>0.00</td>\n",
       "      <td>0.3</td>\n",
       "      <td>39.55</td>\n",
       "      <td>0.0</td>\n",
       "      <td>1.25</td>\n",
       "    </tr>\n",
       "    <tr>\n",
       "      <th>4</th>\n",
       "      <td>1</td>\n",
       "      <td>2022-06-01 00:23:58</td>\n",
       "      <td>2022-06-01 00:33:43</td>\n",
       "      <td>0.0</td>\n",
       "      <td>1.80</td>\n",
       "      <td>1.0</td>\n",
       "      <td>N</td>\n",
       "      <td>140</td>\n",
       "      <td>163</td>\n",
       "      <td>1</td>\n",
       "      <td>9.0</td>\n",
       "      <td>3.00</td>\n",
       "      <td>0.5</td>\n",
       "      <td>2.55</td>\n",
       "      <td>0.00</td>\n",
       "      <td>0.3</td>\n",
       "      <td>15.35</td>\n",
       "      <td>2.5</td>\n",
       "      <td>0.00</td>\n",
       "    </tr>\n",
       "  </tbody>\n",
       "</table>\n",
       "</div>"
      ],
      "text/plain": [
       "   VendorID tpep_pickup_datetime tpep_dropoff_datetime  passenger_count  \\\n",
       "0         1  2022-06-01 00:25:41   2022-06-01 00:48:22              1.0   \n",
       "1         1  2022-06-01 00:44:40   2022-06-01 01:01:48              1.0   \n",
       "2         2  2022-06-01 00:23:07   2022-06-01 00:39:50              1.0   \n",
       "3         1  2022-06-01 00:25:53   2022-06-01 00:57:06              2.0   \n",
       "4         1  2022-06-01 00:23:58   2022-06-01 00:33:43              0.0   \n",
       "\n",
       "   trip_distance  RatecodeID store_and_fwd_flag  PULocationID  DOLocationID  \\\n",
       "0          11.00         1.0                  N            70            48   \n",
       "1           4.20         1.0                  N           170           226   \n",
       "2           9.49         1.0                  N           264           113   \n",
       "3          12.10         1.0                  N           132            17   \n",
       "4           1.80         1.0                  N           140           163   \n",
       "\n",
       "   payment_type  fare_amount  extra  mta_tax  tip_amount  tolls_amount  \\\n",
       "0             1         32.0   3.00      0.5        2.00          6.55   \n",
       "1             1         14.0   3.00      0.5        0.00          0.00   \n",
       "2             1         26.0   0.50      0.5        5.00          6.55   \n",
       "3             2         37.0   1.75      0.5        0.00          0.00   \n",
       "4             1          9.0   3.00      0.5        2.55          0.00   \n",
       "\n",
       "   improvement_surcharge  total_amount  congestion_surcharge  airport_fee  \n",
       "0                    0.3         44.35                   2.5         0.00  \n",
       "1                    0.3         17.80                   2.5         0.00  \n",
       "2                    0.3         42.60                   2.5         1.25  \n",
       "3                    0.3         39.55                   0.0         1.25  \n",
       "4                    0.3         15.35                   2.5         0.00  "
      ]
     },
     "execution_count": 5,
     "metadata": {},
     "output_type": "execute_result"
    }
   ],
   "source": [
    "taxi_data.head(5)"
   ]
  },
  {
   "cell_type": "code",
   "execution_count": 6,
   "id": "87b431fa",
   "metadata": {},
   "outputs": [
    {
     "data": {
      "text/plain": [
       "(3558124, 19)"
      ]
     },
     "execution_count": 6,
     "metadata": {},
     "output_type": "execute_result"
    }
   ],
   "source": [
    "taxi_data.shape"
   ]
  },
  {
   "cell_type": "code",
   "execution_count": 7,
   "id": "0af96415",
   "metadata": {},
   "outputs": [
    {
     "name": "stdout",
     "output_type": "stream",
     "text": [
      "<class 'pandas.core.frame.DataFrame'>\n",
      "RangeIndex: 3558124 entries, 0 to 3558123\n",
      "Data columns (total 19 columns):\n",
      " #   Column                 Dtype         \n",
      "---  ------                 -----         \n",
      " 0   VendorID               int64         \n",
      " 1   tpep_pickup_datetime   datetime64[ns]\n",
      " 2   tpep_dropoff_datetime  datetime64[ns]\n",
      " 3   passenger_count        float64       \n",
      " 4   trip_distance          float64       \n",
      " 5   RatecodeID             float64       \n",
      " 6   store_and_fwd_flag     object        \n",
      " 7   PULocationID           int64         \n",
      " 8   DOLocationID           int64         \n",
      " 9   payment_type           int64         \n",
      " 10  fare_amount            float64       \n",
      " 11  extra                  float64       \n",
      " 12  mta_tax                float64       \n",
      " 13  tip_amount             float64       \n",
      " 14  tolls_amount           float64       \n",
      " 15  improvement_surcharge  float64       \n",
      " 16  total_amount           float64       \n",
      " 17  congestion_surcharge   float64       \n",
      " 18  airport_fee            float64       \n",
      "dtypes: datetime64[ns](2), float64(12), int64(4), object(1)\n",
      "memory usage: 515.8+ MB\n"
     ]
    }
   ],
   "source": [
    "taxi_data.info()"
   ]
  },
  {
   "cell_type": "code",
   "execution_count": 8,
   "id": "d1234a35",
   "metadata": {},
   "outputs": [],
   "source": [
    "taxi,_=train_test_split(taxi_data, test_size=.98, random_state=0)"
   ]
  },
  {
   "cell_type": "code",
   "execution_count": 9,
   "id": "24e99251",
   "metadata": {},
   "outputs": [
    {
     "data": {
      "text/plain": [
       "(71162, 19)"
      ]
     },
     "execution_count": 9,
     "metadata": {},
     "output_type": "execute_result"
    }
   ],
   "source": [
    "taxi.shape"
   ]
  },
  {
   "cell_type": "code",
   "execution_count": 10,
   "id": "99d3fa92",
   "metadata": {},
   "outputs": [
    {
     "data": {
      "text/plain": [
       "(3486962, 19)"
      ]
     },
     "execution_count": 10,
     "metadata": {},
     "output_type": "execute_result"
    }
   ],
   "source": [
    "_.shape"
   ]
  },
  {
   "cell_type": "markdown",
   "id": "6777fceb",
   "metadata": {},
   "source": [
    "### EDA"
   ]
  },
  {
   "cell_type": "code",
   "execution_count": 11,
   "id": "2301b63d",
   "metadata": {},
   "outputs": [
    {
     "data": {
      "text/plain": [
       "2    50189\n",
       "1    20830\n",
       "6      143\n",
       "Name: VendorID, dtype: int64"
      ]
     },
     "execution_count": 11,
     "metadata": {},
     "output_type": "execute_result"
    }
   ],
   "source": [
    "taxi['VendorID'].value_counts()"
   ]
  },
  {
   "cell_type": "code",
   "execution_count": 12,
   "id": "c05bc92f",
   "metadata": {},
   "outputs": [],
   "source": [
    "def univariate_cat(data,x):\n",
    "    missing=data[x].isnull().sum()\n",
    "    unique_cnt=data[x].nunique()\n",
    "    unique_cat=list(data[x].unique())\n",
    "    \n",
    "    f1=pd.DataFrame(data[x].value_counts(dropna=False))\n",
    "    f1.rename(columns={x:\"Count\"},inplace=True)\n",
    "    f2=pd.DataFrame(data[x].value_counts(normalize=True))\n",
    "    f2.rename(columns={x:\"Percentage\"},inplace=True)\n",
    "    f2[\"Percentage\"]=(f2[\"Percentage\"]*100).round(2).astype(str)+\" %\"\n",
    "    ff=pd.concat([f1,f2],axis=1)\n",
    "    \n",
    "    print(f\"Total missing values : {missing}\\n\")\n",
    "    print(f\"Total count of unique category : {unique_cnt}\\n\")\n",
    "    print(f\"Unique categories : \\n{unique_cat}\")\n",
    "    print(f\"Value count and % : \\n{ff}\")\n",
    "    \n",
    "    sns.countplot(data=data,x=x)\n",
    "    plt.show()"
   ]
  },
  {
   "cell_type": "code",
   "execution_count": 13,
   "id": "bbac15dd",
   "metadata": {},
   "outputs": [
    {
     "name": "stdout",
     "output_type": "stream",
     "text": [
      "Total missing values : 0\n",
      "\n",
      "Total count of unique category : 3\n",
      "\n",
      "Unique categories : \n",
      "[2, 1, 6]\n",
      "Value count and % : \n",
      "   Count Percentage\n",
      "2  50189    70.53 %\n",
      "1  20830    29.27 %\n",
      "6    143      0.2 %\n"
     ]
    },
    {
     "data": {
      "image/png": "[encoded data removed]",
      "text/plain": [
       "<Figure size 432x288 with 1 Axes>"
      ]
     },
     "metadata": {
      "needs_background": "light"
     },
     "output_type": "display_data"
    }
   ],
   "source": [
    "univariate_cat(taxi,'VendorID')"
   ]
  },
  {
   "cell_type": "code",
   "execution_count": 14,
   "id": "d45c3644",
   "metadata": {},
   "outputs": [],
   "source": [
    "taxi['VendorID']=taxi['VendorID'].replace([6,5],'Other')"
   ]
  },
  {
   "cell_type": "code",
   "execution_count": 15,
   "id": "504795db",
   "metadata": {},
   "outputs": [
    {
     "data": {
      "text/plain": [
       "2        50189\n",
       "1        20830\n",
       "Other      143\n",
       "Name: VendorID, dtype: int64"
      ]
     },
     "execution_count": 15,
     "metadata": {},
     "output_type": "execute_result"
    }
   ],
   "source": [
    "taxi['VendorID'].value_counts()"
   ]
  },
  {
   "cell_type": "code",
   "execution_count": 16,
   "id": "99ab2dd9",
   "metadata": {},
   "outputs": [
    {
     "name": "stdout",
     "output_type": "stream",
     "text": [
      "Total missing values : 2660\n",
      "\n",
      "Total count of unique category : 2\n",
      "\n",
      "Unique categories : \n",
      "['N', None, 'Y']\n",
      "Value count and % : \n",
      "      Count Percentage\n",
      "N     67674    98.79 %\n",
      "None   2660        NaN\n",
      "Y       828     1.21 %\n"
     ]
    },
    {
     "data": {
      "image/png": "[encoded data removed]",
      "text/plain": [
       "<Figure size 432x288 with 1 Axes>"
      ]
     },
     "metadata": {
      "needs_background": "light"
     },
     "output_type": "display_data"
    }
   ],
   "source": [
    "univariate_cat(taxi,'store_and_fwd_flag')"
   ]
  },
  {
   "cell_type": "code",
   "execution_count": 17,
   "id": "bde1f2d7",
   "metadata": {},
   "outputs": [],
   "source": [
    "taxi['store_and_fwd_flag'].fillna('Other',inplace=True)     \n",
    "# taxi['store_and_fwd_flag'].replace(np.nan,'other')"
   ]
  },
  {
   "cell_type": "code",
   "execution_count": 18,
   "id": "408f3a21",
   "metadata": {},
   "outputs": [
    {
     "data": {
      "text/plain": [
       "N        67674\n",
       "Other     2660\n",
       "Y          828\n",
       "Name: store_and_fwd_flag, dtype: int64"
      ]
     },
     "execution_count": 18,
     "metadata": {},
     "output_type": "execute_result"
    }
   ],
   "source": [
    "taxi['store_and_fwd_flag'].value_counts()"
   ]
  },
  {
   "cell_type": "code",
   "execution_count": 19,
   "id": "63764254",
   "metadata": {},
   "outputs": [
    {
     "data": {
      "text/plain": [
       "1.0     64553\n",
       "2.0      2826\n",
       "5.0       612\n",
       "3.0       217\n",
       "99.0      206\n",
       "4.0        88\n",
       "Name: RatecodeID, dtype: int64"
      ]
     },
     "execution_count": 19,
     "metadata": {},
     "output_type": "execute_result"
    }
   ],
   "source": [
    "taxi['RatecodeID'].value_counts()"
   ]
  },
  {
   "cell_type": "code",
   "execution_count": 20,
   "id": "bdf4d924",
   "metadata": {},
   "outputs": [],
   "source": [
    "taxi['RatecodeID']=taxi['RatecodeID'].map({1:'Standard rate',\n",
    "                                          2:'JFK',\n",
    "                                          3:'Newark',\n",
    "                                          4:'Nassau or Westchester',\n",
    "                                          5:'Negotiated fare',\n",
    "                                          6:'Group ride',\n",
    "                                          99:'other'})"
   ]
  },
  {
   "cell_type": "code",
   "execution_count": 21,
   "id": "23da534b",
   "metadata": {},
   "outputs": [
    {
     "name": "stdout",
     "output_type": "stream",
     "text": [
      "Total missing values : 2660\n",
      "\n",
      "Total count of unique category : 6\n",
      "\n",
      "Unique categories : \n",
      "['Standard rate', nan, 'Negotiated fare', 'JFK', 'Newark', 'Nassau or Westchester', 'other']\n",
      "Value count and % : \n",
      "                       Count Percentage\n",
      "Standard rate          64553    94.24 %\n",
      "JFK                     2826     4.13 %\n",
      "NaN                     2660        NaN\n",
      "Negotiated fare          612     0.89 %\n",
      "Newark                   217     0.32 %\n",
      "other                    206      0.3 %\n",
      "Nassau or Westchester     88     0.13 %\n"
     ]
    },
    {
     "data": {
      "image/png": "[encoded data removed]",
      "text/plain": [
       "<Figure size 432x288 with 1 Axes>"
      ]
     },
     "metadata": {
      "needs_background": "light"
     },
     "output_type": "display_data"
    }
   ],
   "source": [
    "univariate_cat(taxi,'RatecodeID')"
   ]
  },
  {
   "cell_type": "code",
   "execution_count": 22,
   "id": "687ab8ec",
   "metadata": {},
   "outputs": [],
   "source": [
    "taxi['RatecodeID']=taxi['RatecodeID'].replace(np.nan,'other')"
   ]
  },
  {
   "cell_type": "code",
   "execution_count": 23,
   "id": "167b7725",
   "metadata": {},
   "outputs": [
    {
     "name": "stdout",
     "output_type": "stream",
     "text": [
      "Total missing values : 0\n",
      "\n",
      "Total count of unique category : 5\n",
      "\n",
      "Unique categories : \n",
      "[1, 2, 0, 4, 3]\n",
      "Value count and % : \n",
      "   Count Percentage\n",
      "1  53921    75.77 %\n",
      "2  13873    19.49 %\n",
      "0   2660     3.74 %\n",
      "3    363     0.51 %\n",
      "4    345     0.48 %\n"
     ]
    },
    {
     "data": {
      "image/png": "[encoded data removed]",
      "text/plain": [
       "<Figure size 432x288 with 1 Axes>"
      ]
     },
     "metadata": {
      "needs_background": "light"
     },
     "output_type": "display_data"
    }
   ],
   "source": [
    "univariate_cat(taxi,'payment_type')\n",
    "\n",
    "# 1= Credit card\n",
    "# 2= Cash\n",
    "# 3= No charge\n",
    "# 4= Dispute\n",
    "# 5= Unknown\n",
    "# 6= Voided trip"
   ]
  },
  {
   "cell_type": "code",
   "execution_count": 24,
   "id": "d4857d3a",
   "metadata": {},
   "outputs": [],
   "source": [
    "taxi['payment_type']=taxi['payment_type'].map({1:'Credit card',\n",
    "                                          2:'Cash',\n",
    "                                          3:'No charge',\n",
    "                                          4:'Dispute',\n",
    "                                          0:'Unknown'})"
   ]
  },
  {
   "cell_type": "code",
   "execution_count": 25,
   "id": "bb9c1f22",
   "metadata": {},
   "outputs": [],
   "source": [
    "def univariate_num(data,x):\n",
    "    missing=data[x].isnull().sum()\n",
    "    min1=round(data[x].min(),2)\n",
    "    max1=round(data[x].max(),2)\n",
    "    mean=round(data[x].mean(),2)\n",
    "    var=round(data[x].var(),2)\n",
    "    std=round(data[x].std(),2)\n",
    "    range1=round(max1-min1,2)\n",
    "    q1=round(data[x].quantile(.25),2)\n",
    "    q2=round(data[x].quantile(.50),2)\n",
    "    q3=round(data[x].quantile(.75),2)\n",
    "    skew=round(data[x].skew(),2)\n",
    "    kurt=round(data[x].kurt(),2)\n",
    "    myvalue={\"missing\" : missing,\"min\" : min1,\"max\" : max1,\"mean\" : mean,\"var\" : var, \"std\" : std,\"range\" : range1,\n",
    "             \"q1\" : q1,\"q2\" : q2,\"q3\" : q3,\"skewness\" : skew,\"Kurtosis\" : kurt}\n",
    "#     sns.histplot(data[x])\n",
    "#     plt.show()\n",
    "    sns.boxplot(data=data,y=data[x])\n",
    "#     plt.show()\n",
    "    return myvalue"
   ]
  },
  {
   "cell_type": "code",
   "execution_count": 26,
   "id": "a8074405",
   "metadata": {},
   "outputs": [
    {
     "data": {
      "text/plain": [
       "{'missing': 2660,\n",
       " 'min': 0.0,\n",
       " 'max': 6.0,\n",
       " 'mean': 1.4,\n",
       " 'var': 0.92,\n",
       " 'std': 0.96,\n",
       " 'range': 6.0,\n",
       " 'q1': 1.0,\n",
       " 'q2': 1.0,\n",
       " 'q3': 1.0,\n",
       " 'skewness': 2.74,\n",
       " 'Kurtosis': 8.32}"
      ]
     },
     "execution_count": 26,
     "metadata": {},
     "output_type": "execute_result"
    },
    {
     "data": {
      "image/png": "[encoded data removed]",
      "text/plain": [
       "<Figure size 432x288 with 1 Axes>"
      ]
     },
     "metadata": {
      "needs_background": "light"
     },
     "output_type": "display_data"
    }
   ],
   "source": [
    "univariate_num(taxi,'passenger_count')"
   ]
  },
  {
   "cell_type": "code",
   "execution_count": 27,
   "id": "f019d46f",
   "metadata": {},
   "outputs": [
    {
     "data": {
      "text/plain": [
       "{'missing': 0,\n",
       " 'min': 0.0,\n",
       " 'max': 111375.9,\n",
       " 'mean': 5.14,\n",
       " 'var': 174326.41,\n",
       " 'std': 417.52,\n",
       " 'range': 111375.9,\n",
       " 'q1': 1.14,\n",
       " 'q2': 1.94,\n",
       " 'q3': 3.63,\n",
       " 'skewness': 266.71,\n",
       " 'Kurtosis': 71143.4}"
      ]
     },
     "execution_count": 27,
     "metadata": {},
     "output_type": "execute_result"
    },
    {
     "data": {
      "image/png": "[encoded data removed]",
      "text/plain": [
       "<Figure size 432x288 with 1 Axes>"
      ]
     },
     "metadata": {
      "needs_background": "light"
     },
     "output_type": "display_data"
    }
   ],
   "source": [
    "univariate_num(taxi,'trip_distance')"
   ]
  },
  {
   "cell_type": "code",
   "execution_count": 28,
   "id": "a56429b8",
   "metadata": {},
   "outputs": [],
   "source": [
    "taxi.drop(columns=['DOLocationID','PULocationID'],inplace=True)"
   ]
  },
  {
   "cell_type": "code",
   "execution_count": 29,
   "id": "d694383e",
   "metadata": {},
   "outputs": [
    {
     "data": {
      "text/plain": [
       "(904, 17)"
      ]
     },
     "execution_count": 29,
     "metadata": {},
     "output_type": "execute_result"
    }
   ],
   "source": [
    "taxi[taxi['fare_amount']<=2.5].shape"
   ]
  },
  {
   "cell_type": "code",
   "execution_count": 30,
   "id": "c46a54d2",
   "metadata": {},
   "outputs": [],
   "source": [
    "taxi1=taxi[taxi['fare_amount']>=2.5]"
   ]
  },
  {
   "cell_type": "code",
   "execution_count": 31,
   "id": "fbb90455",
   "metadata": {},
   "outputs": [
    {
     "data": {
      "text/plain": [
       "(70637, 17)"
      ]
     },
     "execution_count": 31,
     "metadata": {},
     "output_type": "execute_result"
    }
   ],
   "source": [
    "taxi1.shape"
   ]
  },
  {
   "cell_type": "code",
   "execution_count": 32,
   "id": "8b96bd8e",
   "metadata": {},
   "outputs": [
    {
     "name": "stderr",
     "output_type": "stream",
     "text": [
      "C:\\Users\\ABHAY\\anaconda3\\lib\\site-packages\\seaborn\\_decorators.py:36: FutureWarning: Pass the following variable as a keyword arg: x. From version 0.12, the only valid positional argument will be `data`, and passing other arguments without an explicit keyword will result in an error or misinterpretation.\n",
      "  warnings.warn(\n"
     ]
    },
    {
     "data": {
      "text/plain": [
       "<AxesSubplot:xlabel='fare_amount'>"
      ]
     },
     "execution_count": 32,
     "metadata": {},
     "output_type": "execute_result"
    },
    {
     "data": {
      "image/png": "[encoded data removed]",
      "text/plain": [
       "<Figure size 432x288 with 1 Axes>"
      ]
     },
     "metadata": {
      "needs_background": "light"
     },
     "output_type": "display_data"
    }
   ],
   "source": [
    "sns.boxplot(taxi1['fare_amount'])"
   ]
  },
  {
   "cell_type": "code",
   "execution_count": 33,
   "id": "5533c084",
   "metadata": {},
   "outputs": [
    {
     "data": {
      "text/plain": [
       "{'missing': 0,\n",
       " 'min': 0.0,\n",
       " 'max': 8.25,\n",
       " 'mean': 1.03,\n",
       " 'var': 1.58,\n",
       " 'std': 1.26,\n",
       " 'range': 8.25,\n",
       " 'q1': 0.0,\n",
       " 'q2': 0.5,\n",
       " 'q3': 2.5,\n",
       " 'skewness': 1.14,\n",
       " 'Kurtosis': 0.75}"
      ]
     },
     "execution_count": 33,
     "metadata": {},
     "output_type": "execute_result"
    },
    {
     "data": {
      "image/png": "[encoded data removed]",
      "text/plain": [
       "<Figure size 432x288 with 1 Axes>"
      ]
     },
     "metadata": {
      "needs_background": "light"
     },
     "output_type": "display_data"
    }
   ],
   "source": [
    "univariate_num(taxi1,'extra')"
   ]
  },
  {
   "cell_type": "code",
   "execution_count": 34,
   "id": "6a5f1280",
   "metadata": {},
   "outputs": [
    {
     "data": {
      "text/plain": [
       "(28530, 17)"
      ]
     },
     "execution_count": 34,
     "metadata": {},
     "output_type": "execute_result"
    }
   ],
   "source": [
    "taxi1[taxi1['extra']==0].shape"
   ]
  },
  {
   "cell_type": "code",
   "execution_count": 35,
   "id": "2065677d",
   "metadata": {},
   "outputs": [
    {
     "data": {
      "text/plain": [
       "{'missing': 0,\n",
       " 'min': 0.0,\n",
       " 'max': 2.78,\n",
       " 'mean': 0.49,\n",
       " 'var': 0.0,\n",
       " 'std': 0.05,\n",
       " 'range': 2.78,\n",
       " 'q1': 0.5,\n",
       " 'q2': 0.5,\n",
       " 'q3': 0.5,\n",
       " 'skewness': -6.5,\n",
       " 'Kurtosis': 188.41}"
      ]
     },
     "execution_count": 35,
     "metadata": {},
     "output_type": "execute_result"
    },
    {
     "data": {
      "image/png": "[encoded data removed]",
      "text/plain": [
       "<Figure size 432x288 with 1 Axes>"
      ]
     },
     "metadata": {
      "needs_background": "light"
     },
     "output_type": "display_data"
    }
   ],
   "source": [
    "univariate_num(taxi1,'mta_tax')"
   ]
  },
  {
   "cell_type": "code",
   "execution_count": 36,
   "id": "b44f8fb6",
   "metadata": {},
   "outputs": [
    {
     "data": {
      "text/plain": [
       "{'missing': 0,\n",
       " 'min': 0.0,\n",
       " 'max': 98.0,\n",
       " 'mean': 2.81,\n",
       " 'var': 10.4,\n",
       " 'std': 3.22,\n",
       " 'range': 98.0,\n",
       " 'q1': 1.0,\n",
       " 'q2': 2.2,\n",
       " 'q3': 3.45,\n",
       " 'skewness': 3.82,\n",
       " 'Kurtosis': 44.22}"
      ]
     },
     "execution_count": 36,
     "metadata": {},
     "output_type": "execute_result"
    },
    {
     "data": {
      "image/png": "[encoded data removed]",
      "text/plain": [
       "<Figure size 432x288 with 1 Axes>"
      ]
     },
     "metadata": {
      "needs_background": "light"
     },
     "output_type": "display_data"
    }
   ],
   "source": [
    "univariate_num(taxi1,'tip_amount')"
   ]
  },
  {
   "cell_type": "code",
   "execution_count": 37,
   "id": "bd72853e",
   "metadata": {},
   "outputs": [
    {
     "data": {
      "text/plain": [
       "{'missing': 0,\n",
       " 'min': 0.0,\n",
       " 'max': 52.0,\n",
       " 'mean': 0.57,\n",
       " 'var': 4.33,\n",
       " 'std': 2.08,\n",
       " 'range': 52.0,\n",
       " 'q1': 0.0,\n",
       " 'q2': 0.0,\n",
       " 'q3': 0.0,\n",
       " 'skewness': 4.8,\n",
       " 'Kurtosis': 36.86}"
      ]
     },
     "execution_count": 37,
     "metadata": {},
     "output_type": "execute_result"
    },
    {
     "data": {
      "image/png": "[encoded data removed]",
      "text/plain": [
       "<Figure size 432x288 with 1 Axes>"
      ]
     },
     "metadata": {
      "needs_background": "light"
     },
     "output_type": "display_data"
    }
   ],
   "source": [
    "univariate_num(taxi1,'tolls_amount')"
   ]
  },
  {
   "cell_type": "code",
   "execution_count": 38,
   "id": "c07d269b",
   "metadata": {},
   "outputs": [
    {
     "data": {
      "text/plain": [
       "{'missing': 0,\n",
       " 'min': 0.0,\n",
       " 'max': 0.3,\n",
       " 'mean': 0.3,\n",
       " 'var': 0.0,\n",
       " 'std': 0.0,\n",
       " 'range': 0.3,\n",
       " 'q1': 0.3,\n",
       " 'q2': 0.3,\n",
       " 'q3': 0.3,\n",
       " 'skewness': -76.71,\n",
       " 'Kurtosis': 5881.83}"
      ]
     },
     "execution_count": 38,
     "metadata": {},
     "output_type": "execute_result"
    },
    {
     "data": {
      "image/png": "[encoded data removed]",
      "text/plain": [
       "<Figure size 432x288 with 1 Axes>"
      ]
     },
     "metadata": {
      "needs_background": "light"
     },
     "output_type": "display_data"
    }
   ],
   "source": [
    "univariate_num(taxi1,'improvement_surcharge')"
   ]
  },
  {
   "cell_type": "code",
   "execution_count": 39,
   "id": "61d6eb19",
   "metadata": {},
   "outputs": [
    {
     "data": {
      "text/plain": [
       "(12, 17)"
      ]
     },
     "execution_count": 39,
     "metadata": {},
     "output_type": "execute_result"
    }
   ],
   "source": [
    "taxi1[taxi1['improvement_surcharge']==0].shape"
   ]
  },
  {
   "cell_type": "code",
   "execution_count": 40,
   "id": "66084c91",
   "metadata": {},
   "outputs": [
    {
     "name": "stderr",
     "output_type": "stream",
     "text": [
      "C:\\Users\\ABHAY\\AppData\\Local\\Temp\\ipykernel_10608\\1836431459.py:1: SettingWithCopyWarning: \n",
      "A value is trying to be set on a copy of a slice from a DataFrame\n",
      "\n",
      "See the caveats in the documentation: https://pandas.pydata.org/pandas-docs/stable/user_guide/indexing.html#returning-a-view-versus-a-copy\n",
      "  taxi1.drop(columns='improvement_surcharge',inplace=True)\n"
     ]
    }
   ],
   "source": [
    "taxi1.drop(columns='improvement_surcharge',inplace=True)"
   ]
  },
  {
   "cell_type": "code",
   "execution_count": 41,
   "id": "23eefce7",
   "metadata": {},
   "outputs": [
    {
     "data": {
      "text/plain": [
       "{'missing': 0,\n",
       " 'min': 3.3,\n",
       " 'max': 6981.3,\n",
       " 'mean': 22.45,\n",
       " 'var': 2374.85,\n",
       " 'std': 48.73,\n",
       " 'range': 6978.0,\n",
       " 'q1': 12.36,\n",
       " 'q2': 16.3,\n",
       " 'q3': 23.3,\n",
       " 'skewness': 123.63,\n",
       " 'Kurtosis': 17609.46}"
      ]
     },
     "execution_count": 41,
     "metadata": {},
     "output_type": "execute_result"
    },
    {
     "data": {
      "image/png": "[encoded data removed]",
      "text/plain": [
       "<Figure size 432x288 with 1 Axes>"
      ]
     },
     "metadata": {
      "needs_background": "light"
     },
     "output_type": "display_data"
    }
   ],
   "source": [
    "univariate_num(taxi1,'total_amount')"
   ]
  },
  {
   "cell_type": "code",
   "execution_count": 42,
   "id": "b30133b2",
   "metadata": {},
   "outputs": [
    {
     "data": {
      "text/plain": [
       "{'missing': 2658,\n",
       " 'min': 0.0,\n",
       " 'max': 2.5,\n",
       " 'mean': 2.31,\n",
       " 'var': 0.44,\n",
       " 'std': 0.67,\n",
       " 'range': 2.5,\n",
       " 'q1': 2.5,\n",
       " 'q2': 2.5,\n",
       " 'q3': 2.5,\n",
       " 'skewness': -3.17,\n",
       " 'Kurtosis': 8.08}"
      ]
     },
     "execution_count": 42,
     "metadata": {},
     "output_type": "execute_result"
    },
    {
     "data": {
      "image/png": "[encoded data removed]",
      "text/plain": [
       "<Figure size 432x288 with 1 Axes>"
      ]
     },
     "metadata": {
      "needs_background": "light"
     },
     "output_type": "display_data"
    }
   ],
   "source": [
    "univariate_num(taxi1,'congestion_surcharge')"
   ]
  },
  {
   "cell_type": "code",
   "execution_count": 43,
   "id": "4af614f1",
   "metadata": {},
   "outputs": [
    {
     "data": {
      "text/plain": [
       "{'missing': 2658,\n",
       " 'min': 0.0,\n",
       " 'max': 1.25,\n",
       " 'mean': 0.1,\n",
       " 'var': 0.11,\n",
       " 'std': 0.34,\n",
       " 'range': 1.25,\n",
       " 'q1': 0.0,\n",
       " 'q2': 0.0,\n",
       " 'q3': 0.0,\n",
       " 'skewness': 3.15,\n",
       " 'Kurtosis': 7.92}"
      ]
     },
     "execution_count": 43,
     "metadata": {},
     "output_type": "execute_result"
    },
    {
     "data": {
      "image/png": "[encoded data removed]",
      "text/plain": [
       "<Figure size 432x288 with 1 Axes>"
      ]
     },
     "metadata": {
      "needs_background": "light"
     },
     "output_type": "display_data"
    }
   ],
   "source": [
    "univariate_num(taxi1,'airport_fee')"
   ]
  },
  {
   "cell_type": "markdown",
   "id": "a40be71f",
   "metadata": {},
   "source": [
    "### Feature Engineering "
   ]
  },
  {
   "cell_type": "code",
   "execution_count": 44,
   "id": "b4356f73",
   "metadata": {},
   "outputs": [
    {
     "data": {
      "text/plain": [
       "Index(['VendorID', 'tpep_pickup_datetime', 'tpep_dropoff_datetime',\n",
       "       'passenger_count', 'trip_distance', 'RatecodeID', 'store_and_fwd_flag',\n",
       "       'payment_type', 'fare_amount', 'extra', 'mta_tax', 'tip_amount',\n",
       "       'tolls_amount', 'total_amount', 'congestion_surcharge', 'airport_fee'],\n",
       "      dtype='object')"
      ]
     },
     "execution_count": 44,
     "metadata": {},
     "output_type": "execute_result"
    }
   ],
   "source": [
    "taxi1.columns"
   ]
  },
  {
   "cell_type": "code",
   "execution_count": 45,
   "id": "591bfe51",
   "metadata": {},
   "outputs": [
    {
     "data": {
      "text/plain": [
       "Timestamp('2002-10-21 12:53:50')"
      ]
     },
     "execution_count": 45,
     "metadata": {},
     "output_type": "execute_result"
    }
   ],
   "source": [
    "taxi['tpep_pickup_datetime'].min()"
   ]
  },
  {
   "cell_type": "code",
   "execution_count": 46,
   "id": "80cf634e",
   "metadata": {},
   "outputs": [
    {
     "data": {
      "text/plain": [
       "Timestamp('2022-07-01 00:36:12')"
      ]
     },
     "execution_count": 46,
     "metadata": {},
     "output_type": "execute_result"
    }
   ],
   "source": [
    "taxi['tpep_pickup_datetime'].max()"
   ]
  },
  {
   "cell_type": "markdown",
   "id": "23e2b24c",
   "metadata": {},
   "source": [
    "Date : Month, weekend / weekday, public holiday, time of pickup (erly morning,k afternoon, evening, night, late night) <br>\n",
    "Two Dates : Duration"
   ]
  },
  {
   "cell_type": "code",
   "execution_count": 47,
   "id": "18d1f46c",
   "metadata": {},
   "outputs": [
    {
     "name": "stderr",
     "output_type": "stream",
     "text": [
      "C:\\Users\\ABHAY\\AppData\\Local\\Temp\\ipykernel_10608\\941063554.py:1: SettingWithCopyWarning: \n",
      "A value is trying to be set on a copy of a slice from a DataFrame.\n",
      "Try using .loc[row_indexer,col_indexer] = value instead\n",
      "\n",
      "See the caveats in the documentation: https://pandas.pydata.org/pandas-docs/stable/user_guide/indexing.html#returning-a-view-versus-a-copy\n",
      "  taxi1['month']=taxi1['tpep_pickup_datetime'].dt.month\n",
      "C:\\Users\\ABHAY\\AppData\\Local\\Temp\\ipykernel_10608\\941063554.py:2: SettingWithCopyWarning: \n",
      "A value is trying to be set on a copy of a slice from a DataFrame.\n",
      "Try using .loc[row_indexer,col_indexer] = value instead\n",
      "\n",
      "See the caveats in the documentation: https://pandas.pydata.org/pandas-docs/stable/user_guide/indexing.html#returning-a-view-versus-a-copy\n",
      "  taxi1['year']=taxi1['tpep_pickup_datetime'].dt.year\n",
      "C:\\Users\\ABHAY\\AppData\\Local\\Temp\\ipykernel_10608\\941063554.py:3: SettingWithCopyWarning: \n",
      "A value is trying to be set on a copy of a slice from a DataFrame.\n",
      "Try using .loc[row_indexer,col_indexer] = value instead\n",
      "\n",
      "See the caveats in the documentation: https://pandas.pydata.org/pandas-docs/stable/user_guide/indexing.html#returning-a-view-versus-a-copy\n",
      "  taxi1['week_of_day']=taxi1['tpep_pickup_datetime'].dt.dayofweek\n",
      "C:\\Users\\ABHAY\\AppData\\Local\\Temp\\ipykernel_10608\\941063554.py:4: SettingWithCopyWarning: \n",
      "A value is trying to be set on a copy of a slice from a DataFrame.\n",
      "Try using .loc[row_indexer,col_indexer] = value instead\n",
      "\n",
      "See the caveats in the documentation: https://pandas.pydata.org/pandas-docs/stable/user_guide/indexing.html#returning-a-view-versus-a-copy\n",
      "  taxi1['day']=taxi1['tpep_pickup_datetime'].dt.day\n",
      "C:\\Users\\ABHAY\\AppData\\Local\\Temp\\ipykernel_10608\\941063554.py:5: SettingWithCopyWarning: \n",
      "A value is trying to be set on a copy of a slice from a DataFrame.\n",
      "Try using .loc[row_indexer,col_indexer] = value instead\n",
      "\n",
      "See the caveats in the documentation: https://pandas.pydata.org/pandas-docs/stable/user_guide/indexing.html#returning-a-view-versus-a-copy\n",
      "  taxi1['hours']=taxi1['tpep_pickup_datetime'].dt.hour\n"
     ]
    }
   ],
   "source": [
    "taxi1['month']=taxi1['tpep_pickup_datetime'].dt.month\n",
    "taxi1['year']=taxi1['tpep_pickup_datetime'].dt.year\n",
    "taxi1['week_of_day']=taxi1['tpep_pickup_datetime'].dt.dayofweek\n",
    "taxi1['day']=taxi1['tpep_pickup_datetime'].dt.day\n",
    "taxi1['hours']=taxi1['tpep_pickup_datetime'].dt.hour"
   ]
  },
  {
   "cell_type": "code",
   "execution_count": 48,
   "id": "378592d2",
   "metadata": {},
   "outputs": [
    {
     "data": {
      "text/plain": [
       "9     2650\n",
       "23    2636\n",
       "17    2617\n",
       "16    2612\n",
       "15    2594\n",
       "3     2562\n",
       "24    2539\n",
       "2     2527\n",
       "10    2523\n",
       "1     2520\n",
       "8     2519\n",
       "7     2474\n",
       "14    2440\n",
       "11    2393\n",
       "21    2389\n",
       "4     2388\n",
       "22    2376\n",
       "29    2357\n",
       "30    2351\n",
       "25    2346\n",
       "13    2326\n",
       "18    2274\n",
       "6     2200\n",
       "28    2181\n",
       "12    2061\n",
       "5     2032\n",
       "27    2023\n",
       "19    1990\n",
       "20    1954\n",
       "26    1782\n",
       "31       1\n",
       "Name: day, dtype: int64"
      ]
     },
     "execution_count": 48,
     "metadata": {},
     "output_type": "execute_result"
    }
   ],
   "source": [
    "taxi1['day'].value_counts()"
   ]
  },
  {
   "cell_type": "code",
   "execution_count": 49,
   "id": "7f26e775",
   "metadata": {},
   "outputs": [
    {
     "data": {
      "text/plain": [
       "3    12775\n",
       "2    12364\n",
       "4    10243\n",
       "1     9484\n",
       "5     9402\n",
       "0     8503\n",
       "6     7866\n",
       "Name: week_of_day, dtype: int64"
      ]
     },
     "execution_count": 49,
     "metadata": {},
     "output_type": "execute_result"
    }
   ],
   "source": [
    "taxi1['week_of_day'].value_counts()"
   ]
  },
  {
   "cell_type": "code",
   "execution_count": 50,
   "id": "16a4d107",
   "metadata": {},
   "outputs": [
    {
     "data": {
      "text/plain": [
       "9     2650\n",
       "23    2636\n",
       "17    2617\n",
       "16    2612\n",
       "15    2594\n",
       "3     2562\n",
       "24    2539\n",
       "2     2527\n",
       "10    2523\n",
       "1     2520\n",
       "8     2519\n",
       "7     2474\n",
       "14    2440\n",
       "11    2393\n",
       "21    2389\n",
       "4     2388\n",
       "22    2376\n",
       "29    2357\n",
       "30    2351\n",
       "25    2346\n",
       "13    2326\n",
       "18    2274\n",
       "6     2200\n",
       "28    2181\n",
       "12    2061\n",
       "5     2032\n",
       "27    2023\n",
       "19    1990\n",
       "20    1954\n",
       "26    1782\n",
       "31       1\n",
       "Name: day, dtype: int64"
      ]
     },
     "execution_count": 50,
     "metadata": {},
     "output_type": "execute_result"
    }
   ],
   "source": [
    "taxi1['day'].value_counts()"
   ]
  },
  {
   "cell_type": "code",
   "execution_count": 51,
   "id": "9cbf9a9a",
   "metadata": {},
   "outputs": [],
   "source": [
    "taxi1=taxi1[taxi1['month']==6]\n",
    "taxi1=taxi1[taxi1['year']==2022]"
   ]
  },
  {
   "cell_type": "code",
   "execution_count": 52,
   "id": "73b12d74",
   "metadata": {},
   "outputs": [],
   "source": [
    "taxi1['isweekend']=np.where(taxi1['week_of_day'].isin([5,6]),1,0)"
   ]
  },
  {
   "cell_type": "code",
   "execution_count": 53,
   "id": "2f5f8e48",
   "metadata": {},
   "outputs": [],
   "source": [
    "def day_cut(x):\n",
    "    if x<=10:\n",
    "        return \"starting_of_month\"\n",
    "    elif x>10 and x<=20:\n",
    "        return \"mid_of_month\"\n",
    "    else:\n",
    "        return \"end_of_month\""
   ]
  },
  {
   "cell_type": "code",
   "execution_count": 54,
   "id": "25d4d8f3",
   "metadata": {},
   "outputs": [],
   "source": [
    "taxi1['day_cut']=taxi1['day'].apply(lambda a : day_cut(a))"
   ]
  },
  {
   "cell_type": "code",
   "execution_count": 55,
   "id": "7b816c8e",
   "metadata": {},
   "outputs": [
    {
     "data": {
      "text/plain": [
       "starting_of_month    24393\n",
       "mid_of_month         23261\n",
       "end_of_month         22973\n",
       "Name: day_cut, dtype: int64"
      ]
     },
     "execution_count": 55,
     "metadata": {},
     "output_type": "execute_result"
    }
   ],
   "source": [
    "taxi1['day_cut'].value_counts()"
   ]
  },
  {
   "cell_type": "code",
   "execution_count": 56,
   "id": "9bc96254",
   "metadata": {},
   "outputs": [],
   "source": [
    "def hour_cat(x):\n",
    "    if x >= 4 and x < 8:\n",
    "        return \"early_morning\"\n",
    "    elif x >=8 and x < 12:\n",
    "        return \"morning\"\n",
    "    elif x >=12 and x < 16:\n",
    "        return \"afternoon\"\n",
    "    elif x >=16 and x<20:\n",
    "        return \"evening\"\n",
    "    elif x >=20 and x<24:\n",
    "        return \"night\"\n",
    "    elif x>=0 and x<4:\n",
    "        return \"mid_night\"\n",
    "    else:\n",
    "        return \"unknown\"\n",
    "    "
   ]
  },
  {
   "cell_type": "code",
   "execution_count": 57,
   "id": "fed9a20b",
   "metadata": {},
   "outputs": [],
   "source": [
    "taxi1['hour_cat']=taxi1['hours'].apply(lambda a : hour_cat(a))"
   ]
  },
  {
   "cell_type": "code",
   "execution_count": 58,
   "id": "71d385cb",
   "metadata": {},
   "outputs": [
    {
     "data": {
      "text/plain": [
       "evening          18554\n",
       "afternoon        16450\n",
       "night            14011\n",
       "morning          12794\n",
       "mid_night         4824\n",
       "early_morning     3994\n",
       "Name: hour_cat, dtype: int64"
      ]
     },
     "execution_count": 58,
     "metadata": {},
     "output_type": "execute_result"
    }
   ],
   "source": [
    "taxi1['hour_cat'].value_counts()"
   ]
  },
  {
   "cell_type": "code",
   "execution_count": 59,
   "id": "a57d2ffb",
   "metadata": {},
   "outputs": [],
   "source": [
    "# taxi1['duration']=((taxi1['tpep_dropoff_datetime']-taxi1['tpep_pickup_datetime'])*24).astype('time')"
   ]
  },
  {
   "cell_type": "code",
   "execution_count": 60,
   "id": "11225325",
   "metadata": {},
   "outputs": [],
   "source": [
    "taxi1['duration']=(taxi1['tpep_dropoff_datetime']-taxi1['tpep_pickup_datetime'])/pd.Timedelta(minutes=1)"
   ]
  },
  {
   "cell_type": "code",
   "execution_count": 61,
   "id": "6d625552",
   "metadata": {},
   "outputs": [
    {
     "data": {
      "text/plain": [
       "-0.85"
      ]
     },
     "execution_count": 61,
     "metadata": {},
     "output_type": "execute_result"
    }
   ],
   "source": [
    "taxi1['duration'].min()"
   ]
  },
  {
   "cell_type": "code",
   "execution_count": 62,
   "id": "369c1391",
   "metadata": {},
   "outputs": [
    {
     "data": {
      "text/plain": [
       "1439.4166666666667"
      ]
     },
     "execution_count": 62,
     "metadata": {},
     "output_type": "execute_result"
    }
   ],
   "source": [
    "taxi1['duration'].max()"
   ]
  },
  {
   "cell_type": "code",
   "execution_count": 63,
   "id": "c59f4d74",
   "metadata": {},
   "outputs": [
    {
     "data": {
      "text/plain": [
       "12.000000    101\n",
       "9.000000     100\n",
       "14.000000     90\n",
       "16.000000     85\n",
       "13.000000     85\n",
       "            ... \n",
       "62.100000      1\n",
       "80.016667      1\n",
       "75.400000      1\n",
       "65.566667      1\n",
       "53.333333      1\n",
       "Name: duration, Length: 4559, dtype: int64"
      ]
     },
     "execution_count": 63,
     "metadata": {},
     "output_type": "execute_result"
    }
   ],
   "source": [
    "taxi1['duration'].value_counts()"
   ]
  },
  {
   "cell_type": "code",
   "execution_count": 64,
   "id": "d38b4ad4",
   "metadata": {},
   "outputs": [
    {
     "data": {
      "text/plain": [
       "<AxesSubplot:xlabel='duration', ylabel='Count'>"
      ]
     },
     "execution_count": 64,
     "metadata": {},
     "output_type": "execute_result"
    },
    {
     "data": {
      "image/png": "[encoded data removed]",
      "text/plain": [
       "<Figure size 432x288 with 1 Axes>"
      ]
     },
     "metadata": {
      "needs_background": "light"
     },
     "output_type": "display_data"
    }
   ],
   "source": [
    "sns.histplot(data=taxi1,x='duration')"
   ]
  },
  {
   "cell_type": "code",
   "execution_count": 65,
   "id": "221051b7",
   "metadata": {},
   "outputs": [],
   "source": [
    "def duration_cat(x):\n",
    "    if x<15:\n",
    "        return \"duration_bt_0_150min\"\n",
    "    elif x>=15 and x<30 :\n",
    "        return \"duration_bt_15_30min\"\n",
    "    elif x>=30 and x<60 :\n",
    "        return \"duration_bt_30_60min\"\n",
    "    elif x>=60 and x<120 :\n",
    "        return \"duration_bt_60_120min\"\n",
    "    else:\n",
    "        return \"duration_morethan_120min\""
   ]
  },
  {
   "cell_type": "code",
   "execution_count": 66,
   "id": "33841e37",
   "metadata": {},
   "outputs": [],
   "source": [
    "taxi1['duration_cat']=taxi1['duration'].apply(lambda a : duration_cat(a))"
   ]
  },
  {
   "cell_type": "code",
   "execution_count": 67,
   "id": "97912c6a",
   "metadata": {},
   "outputs": [
    {
     "data": {
      "text/plain": [
       "duration_bt_0_150min        41741\n",
       "duration_bt_15_30min        20678\n",
       "duration_bt_30_60min         6757\n",
       "duration_bt_60_120min        1350\n",
       "duration_morethan_120min      101\n",
       "Name: duration_cat, dtype: int64"
      ]
     },
     "execution_count": 67,
     "metadata": {},
     "output_type": "execute_result"
    }
   ],
   "source": [
    "taxi1['duration_cat'].value_counts()"
   ]
  },
  {
   "cell_type": "code",
   "execution_count": 68,
   "id": "c19c67d9",
   "metadata": {},
   "outputs": [
    {
     "data": {
      "text/plain": [
       "11293      0\n",
       "3241804    0\n",
       "2122208    0\n",
       "645015     0\n",
       "1752107    0\n",
       "          ..\n",
       "2249467    0\n",
       "963395     0\n",
       "2215104    0\n",
       "1484405    0\n",
       "305711     0\n",
       "Name: airport_pickup, Length: 70627, dtype: int32"
      ]
     },
     "execution_count": 68,
     "metadata": {},
     "output_type": "execute_result"
    }
   ],
   "source": [
    "taxi1['airport_pickup']=np.where(taxi1['airport_fee']==0,0,1)\n",
    "taxi1['airport_pickup']"
   ]
  },
  {
   "cell_type": "code",
   "execution_count": null,
   "id": "2a17c49b",
   "metadata": {},
   "outputs": [],
   "source": []
  },
  {
   "cell_type": "code",
   "execution_count": null,
   "id": "d38c0836",
   "metadata": {},
   "outputs": [],
   "source": []
  },
  {
   "cell_type": "code",
   "execution_count": 69,
   "id": "6d924aed",
   "metadata": {},
   "outputs": [
    {
     "name": "stdout",
     "output_type": "stream",
     "text": [
      "<class 'pandas.core.frame.DataFrame'>\n",
      "Int64Index: 70627 entries, 11293 to 305711\n",
      "Data columns (total 27 columns):\n",
      " #   Column                 Non-Null Count  Dtype         \n",
      "---  ------                 --------------  -----         \n",
      " 0   VendorID               70627 non-null  object        \n",
      " 1   tpep_pickup_datetime   70627 non-null  datetime64[ns]\n",
      " 2   tpep_dropoff_datetime  70627 non-null  datetime64[ns]\n",
      " 3   passenger_count        67969 non-null  float64       \n",
      " 4   trip_distance          70627 non-null  float64       \n",
      " 5   RatecodeID             70627 non-null  object        \n",
      " 6   store_and_fwd_flag     70627 non-null  object        \n",
      " 7   payment_type           70627 non-null  object        \n",
      " 8   fare_amount            70627 non-null  float64       \n",
      " 9   extra                  70627 non-null  float64       \n",
      " 10  mta_tax                70627 non-null  float64       \n",
      " 11  tip_amount             70627 non-null  float64       \n",
      " 12  tolls_amount           70627 non-null  float64       \n",
      " 13  total_amount           70627 non-null  float64       \n",
      " 14  congestion_surcharge   67969 non-null  float64       \n",
      " 15  airport_fee            67969 non-null  float64       \n",
      " 16  month                  70627 non-null  int64         \n",
      " 17  year                   70627 non-null  int64         \n",
      " 18  week_of_day            70627 non-null  int64         \n",
      " 19  day                    70627 non-null  int64         \n",
      " 20  hours                  70627 non-null  int64         \n",
      " 21  isweekend              70627 non-null  int32         \n",
      " 22  day_cut                70627 non-null  object        \n",
      " 23  hour_cat               70627 non-null  object        \n",
      " 24  duration               70627 non-null  float64       \n",
      " 25  duration_cat           70627 non-null  object        \n",
      " 26  airport_pickup         70627 non-null  int32         \n",
      "dtypes: datetime64[ns](2), float64(11), int32(2), int64(5), object(7)\n",
      "memory usage: 14.5+ MB\n"
     ]
    }
   ],
   "source": [
    "taxi1.info()"
   ]
  },
  {
   "cell_type": "code",
   "execution_count": 70,
   "id": "cfce3acf",
   "metadata": {},
   "outputs": [
    {
     "data": {
      "text/html": [
       "<div>\n",
       "<style scoped>\n",
       "    .dataframe tbody tr th:only-of-type {\n",
       "        vertical-align: middle;\n",
       "    }\n",
       "\n",
       "    .dataframe tbody tr th {\n",
       "        vertical-align: top;\n",
       "    }\n",
       "\n",
       "    .dataframe thead th {\n",
       "        text-align: right;\n",
       "    }\n",
       "</style>\n",
       "<table border=\"1\" class=\"dataframe\">\n",
       "  <thead>\n",
       "    <tr style=\"text-align: right;\">\n",
       "      <th></th>\n",
       "      <th>max</th>\n",
       "    </tr>\n",
       "    <tr>\n",
       "      <th>fare_amount</th>\n",
       "      <th></th>\n",
       "    </tr>\n",
       "  </thead>\n",
       "  <tbody>\n",
       "    <tr>\n",
       "      <th>2.50</th>\n",
       "      <td>67.30</td>\n",
       "    </tr>\n",
       "    <tr>\n",
       "      <th>3.00</th>\n",
       "      <td>11.80</td>\n",
       "    </tr>\n",
       "    <tr>\n",
       "      <th>3.25</th>\n",
       "      <td>3.75</td>\n",
       "    </tr>\n",
       "    <tr>\n",
       "      <th>3.50</th>\n",
       "      <td>16.80</td>\n",
       "    </tr>\n",
       "    <tr>\n",
       "      <th>3.93</th>\n",
       "      <td>4.36</td>\n",
       "    </tr>\n",
       "    <tr>\n",
       "      <th>...</th>\n",
       "      <td>...</td>\n",
       "    </tr>\n",
       "    <tr>\n",
       "      <th>495.00</th>\n",
       "      <td>495.30</td>\n",
       "    </tr>\n",
       "    <tr>\n",
       "      <th>808.00</th>\n",
       "      <td>808.30</td>\n",
       "    </tr>\n",
       "    <tr>\n",
       "      <th>6966.50</th>\n",
       "      <td>6970.30</td>\n",
       "    </tr>\n",
       "    <tr>\n",
       "      <th>6975.50</th>\n",
       "      <td>6977.55</td>\n",
       "    </tr>\n",
       "    <tr>\n",
       "      <th>6977.00</th>\n",
       "      <td>6981.30</td>\n",
       "    </tr>\n",
       "  </tbody>\n",
       "</table>\n",
       "<p>1715 rows × 1 columns</p>\n",
       "</div>"
      ],
      "text/plain": [
       "                 max\n",
       "fare_amount         \n",
       "2.50           67.30\n",
       "3.00           11.80\n",
       "3.25            3.75\n",
       "3.50           16.80\n",
       "3.93            4.36\n",
       "...              ...\n",
       "495.00        495.30\n",
       "808.00        808.30\n",
       "6966.50      6970.30\n",
       "6975.50      6977.55\n",
       "6977.00      6981.30\n",
       "\n",
       "[1715 rows x 1 columns]"
      ]
     },
     "execution_count": 70,
     "metadata": {},
     "output_type": "execute_result"
    }
   ],
   "source": [
    "taxi1.groupby('fare_amount')['total_amount'].agg({'max'})"
   ]
  },
  {
   "cell_type": "code",
   "execution_count": 71,
   "id": "3ca89604",
   "metadata": {},
   "outputs": [
    {
     "data": {
      "text/plain": [
       "7.50     2992\n",
       "7.00     2983\n",
       "6.00     2923\n",
       "6.50     2897\n",
       "8.00     2852\n",
       "         ... \n",
       "32.53       1\n",
       "19.65       1\n",
       "63.39       1\n",
       "24.39       1\n",
       "19.05       1\n",
       "Name: fare_amount, Length: 1715, dtype: int64"
      ]
     },
     "execution_count": 71,
     "metadata": {},
     "output_type": "execute_result"
    }
   ],
   "source": [
    "taxi1['fare_amount'].value_counts()"
   ]
  },
  {
   "cell_type": "code",
   "execution_count": 72,
   "id": "d0c1c369",
   "metadata": {},
   "outputs": [
    {
     "data": {
      "text/plain": [
       "10.80     1028\n",
       "11.80      978\n",
       "12.36      969\n",
       "10.30      965\n",
       "12.80      963\n",
       "          ... \n",
       "75.86        1\n",
       "205.55       1\n",
       "24.22        1\n",
       "42.19        1\n",
       "85.10        1\n",
       "Name: total_amount, Length: 3937, dtype: int64"
      ]
     },
     "execution_count": 72,
     "metadata": {},
     "output_type": "execute_result"
    }
   ],
   "source": [
    "taxi1['total_amount'].value_counts()"
   ]
  },
  {
   "cell_type": "code",
   "execution_count": 73,
   "id": "8ac010e3",
   "metadata": {},
   "outputs": [],
   "source": [
    "def fare_cut(x):\n",
    "    if x<10:\n",
    "        return \"(0-10]\"\n",
    "    elif x>10 and x<=20:\n",
    "        return \"(10-20]\"\n",
    "    elif x>20 and x<=30:\n",
    "        return \"(20-30]\"\n",
    "    elif x>30 and x<=40:\n",
    "        return \"(30-40]\"\n",
    "    elif x>40 and x<=50:\n",
    "        return \"(40-50]\"\n",
    "    elif x>50 and x<=60:\n",
    "        return \"(50-60]\"\n",
    "    elif x>60 and x<=70:\n",
    "        return \"(60-70]\"\n",
    "    elif x>70 and x<=80:\n",
    "        return \"(70-80]\"\n",
    "    elif x>80 and x<=90:\n",
    "        return \"(80-90]\"\n",
    "    elif x>90 and x<=100:\n",
    "        return \"(90-100]\"\n",
    "    else:\n",
    "        return \"100+\""
   ]
  },
  {
   "cell_type": "code",
   "execution_count": 74,
   "id": "d358bd22",
   "metadata": {},
   "outputs": [],
   "source": [
    "taxi1['fare_cut']=taxi1['fare_amount'].apply(lambda a: fare_cut(a))"
   ]
  },
  {
   "cell_type": "code",
   "execution_count": 75,
   "id": "693cc098",
   "metadata": {},
   "outputs": [
    {
     "data": {
      "text/plain": [
       "<AxesSubplot:>"
      ]
     },
     "execution_count": 75,
     "metadata": {},
     "output_type": "execute_result"
    },
    {
     "data": {
      "image/png": "[encoded data removed]",
      "text/plain": [
       "<Figure size 432x288 with 1 Axes>"
      ]
     },
     "metadata": {
      "needs_background": "light"
     },
     "output_type": "display_data"
    }
   ],
   "source": [
    "taxi1['fare_cut'].value_counts().plot(kind='bar')"
   ]
  },
  {
   "cell_type": "markdown",
   "id": "af3daadd",
   "metadata": {},
   "source": [
    "### Bivariate"
   ]
  },
  {
   "cell_type": "markdown",
   "id": "c82e4ce5",
   "metadata": {},
   "source": [
    "### Missing Value Treatment"
   ]
  },
  {
   "cell_type": "code",
   "execution_count": 76,
   "id": "780af400",
   "metadata": {},
   "outputs": [
    {
     "data": {
      "text/plain": [
       "VendorID                    0\n",
       "tpep_pickup_datetime        0\n",
       "tpep_dropoff_datetime       0\n",
       "passenger_count          2658\n",
       "trip_distance               0\n",
       "RatecodeID                  0\n",
       "store_and_fwd_flag          0\n",
       "payment_type                0\n",
       "fare_amount                 0\n",
       "extra                       0\n",
       "mta_tax                     0\n",
       "tip_amount                  0\n",
       "tolls_amount                0\n",
       "total_amount                0\n",
       "congestion_surcharge     2658\n",
       "airport_fee              2658\n",
       "month                       0\n",
       "year                        0\n",
       "week_of_day                 0\n",
       "day                         0\n",
       "hours                       0\n",
       "isweekend                   0\n",
       "day_cut                     0\n",
       "hour_cat                    0\n",
       "duration                    0\n",
       "duration_cat                0\n",
       "airport_pickup              0\n",
       "fare_cut                    0\n",
       "dtype: int64"
      ]
     },
     "execution_count": 76,
     "metadata": {},
     "output_type": "execute_result"
    }
   ],
   "source": [
    "taxi1.isnull().sum()"
   ]
  },
  {
   "cell_type": "code",
   "execution_count": 77,
   "id": "50159cda",
   "metadata": {},
   "outputs": [
    {
     "data": {
      "text/html": [
       "<div>\n",
       "<style scoped>\n",
       "    .dataframe tbody tr th:only-of-type {\n",
       "        vertical-align: middle;\n",
       "    }\n",
       "\n",
       "    .dataframe tbody tr th {\n",
       "        vertical-align: top;\n",
       "    }\n",
       "\n",
       "    .dataframe thead th {\n",
       "        text-align: right;\n",
       "    }\n",
       "</style>\n",
       "<table border=\"1\" class=\"dataframe\">\n",
       "  <thead>\n",
       "    <tr style=\"text-align: right;\">\n",
       "      <th></th>\n",
       "      <th>VendorID</th>\n",
       "      <th>tpep_pickup_datetime</th>\n",
       "      <th>tpep_dropoff_datetime</th>\n",
       "      <th>passenger_count</th>\n",
       "      <th>trip_distance</th>\n",
       "      <th>RatecodeID</th>\n",
       "      <th>store_and_fwd_flag</th>\n",
       "      <th>payment_type</th>\n",
       "      <th>fare_amount</th>\n",
       "      <th>extra</th>\n",
       "      <th>...</th>\n",
       "      <th>week_of_day</th>\n",
       "      <th>day</th>\n",
       "      <th>hours</th>\n",
       "      <th>isweekend</th>\n",
       "      <th>day_cut</th>\n",
       "      <th>hour_cat</th>\n",
       "      <th>duration</th>\n",
       "      <th>duration_cat</th>\n",
       "      <th>airport_pickup</th>\n",
       "      <th>fare_cut</th>\n",
       "    </tr>\n",
       "  </thead>\n",
       "  <tbody>\n",
       "    <tr>\n",
       "      <th>11293</th>\n",
       "      <td>NaN</td>\n",
       "      <td>NaT</td>\n",
       "      <td>NaT</td>\n",
       "      <td>NaN</td>\n",
       "      <td>NaN</td>\n",
       "      <td>NaN</td>\n",
       "      <td>NaN</td>\n",
       "      <td>NaN</td>\n",
       "      <td>NaN</td>\n",
       "      <td>NaN</td>\n",
       "      <td>...</td>\n",
       "      <td>NaN</td>\n",
       "      <td>NaN</td>\n",
       "      <td>NaN</td>\n",
       "      <td>NaN</td>\n",
       "      <td>NaN</td>\n",
       "      <td>NaN</td>\n",
       "      <td>NaN</td>\n",
       "      <td>NaN</td>\n",
       "      <td>NaN</td>\n",
       "      <td>NaN</td>\n",
       "    </tr>\n",
       "    <tr>\n",
       "      <th>3241804</th>\n",
       "      <td>NaN</td>\n",
       "      <td>NaT</td>\n",
       "      <td>NaT</td>\n",
       "      <td>NaN</td>\n",
       "      <td>NaN</td>\n",
       "      <td>NaN</td>\n",
       "      <td>NaN</td>\n",
       "      <td>NaN</td>\n",
       "      <td>NaN</td>\n",
       "      <td>NaN</td>\n",
       "      <td>...</td>\n",
       "      <td>NaN</td>\n",
       "      <td>NaN</td>\n",
       "      <td>NaN</td>\n",
       "      <td>NaN</td>\n",
       "      <td>NaN</td>\n",
       "      <td>NaN</td>\n",
       "      <td>NaN</td>\n",
       "      <td>NaN</td>\n",
       "      <td>NaN</td>\n",
       "      <td>NaN</td>\n",
       "    </tr>\n",
       "    <tr>\n",
       "      <th>2122208</th>\n",
       "      <td>NaN</td>\n",
       "      <td>NaT</td>\n",
       "      <td>NaT</td>\n",
       "      <td>NaN</td>\n",
       "      <td>NaN</td>\n",
       "      <td>NaN</td>\n",
       "      <td>NaN</td>\n",
       "      <td>NaN</td>\n",
       "      <td>NaN</td>\n",
       "      <td>NaN</td>\n",
       "      <td>...</td>\n",
       "      <td>NaN</td>\n",
       "      <td>NaN</td>\n",
       "      <td>NaN</td>\n",
       "      <td>NaN</td>\n",
       "      <td>NaN</td>\n",
       "      <td>NaN</td>\n",
       "      <td>NaN</td>\n",
       "      <td>NaN</td>\n",
       "      <td>NaN</td>\n",
       "      <td>NaN</td>\n",
       "    </tr>\n",
       "    <tr>\n",
       "      <th>645015</th>\n",
       "      <td>NaN</td>\n",
       "      <td>NaT</td>\n",
       "      <td>NaT</td>\n",
       "      <td>NaN</td>\n",
       "      <td>NaN</td>\n",
       "      <td>NaN</td>\n",
       "      <td>NaN</td>\n",
       "      <td>NaN</td>\n",
       "      <td>NaN</td>\n",
       "      <td>NaN</td>\n",
       "      <td>...</td>\n",
       "      <td>NaN</td>\n",
       "      <td>NaN</td>\n",
       "      <td>NaN</td>\n",
       "      <td>NaN</td>\n",
       "      <td>NaN</td>\n",
       "      <td>NaN</td>\n",
       "      <td>NaN</td>\n",
       "      <td>NaN</td>\n",
       "      <td>NaN</td>\n",
       "      <td>NaN</td>\n",
       "    </tr>\n",
       "    <tr>\n",
       "      <th>1752107</th>\n",
       "      <td>NaN</td>\n",
       "      <td>NaT</td>\n",
       "      <td>NaT</td>\n",
       "      <td>NaN</td>\n",
       "      <td>NaN</td>\n",
       "      <td>NaN</td>\n",
       "      <td>NaN</td>\n",
       "      <td>NaN</td>\n",
       "      <td>NaN</td>\n",
       "      <td>NaN</td>\n",
       "      <td>...</td>\n",
       "      <td>NaN</td>\n",
       "      <td>NaN</td>\n",
       "      <td>NaN</td>\n",
       "      <td>NaN</td>\n",
       "      <td>NaN</td>\n",
       "      <td>NaN</td>\n",
       "      <td>NaN</td>\n",
       "      <td>NaN</td>\n",
       "      <td>NaN</td>\n",
       "      <td>NaN</td>\n",
       "    </tr>\n",
       "    <tr>\n",
       "      <th>...</th>\n",
       "      <td>...</td>\n",
       "      <td>...</td>\n",
       "      <td>...</td>\n",
       "      <td>...</td>\n",
       "      <td>...</td>\n",
       "      <td>...</td>\n",
       "      <td>...</td>\n",
       "      <td>...</td>\n",
       "      <td>...</td>\n",
       "      <td>...</td>\n",
       "      <td>...</td>\n",
       "      <td>...</td>\n",
       "      <td>...</td>\n",
       "      <td>...</td>\n",
       "      <td>...</td>\n",
       "      <td>...</td>\n",
       "      <td>...</td>\n",
       "      <td>...</td>\n",
       "      <td>...</td>\n",
       "      <td>...</td>\n",
       "      <td>...</td>\n",
       "    </tr>\n",
       "    <tr>\n",
       "      <th>2249467</th>\n",
       "      <td>NaN</td>\n",
       "      <td>NaT</td>\n",
       "      <td>NaT</td>\n",
       "      <td>NaN</td>\n",
       "      <td>NaN</td>\n",
       "      <td>NaN</td>\n",
       "      <td>NaN</td>\n",
       "      <td>NaN</td>\n",
       "      <td>NaN</td>\n",
       "      <td>NaN</td>\n",
       "      <td>...</td>\n",
       "      <td>NaN</td>\n",
       "      <td>NaN</td>\n",
       "      <td>NaN</td>\n",
       "      <td>NaN</td>\n",
       "      <td>NaN</td>\n",
       "      <td>NaN</td>\n",
       "      <td>NaN</td>\n",
       "      <td>NaN</td>\n",
       "      <td>NaN</td>\n",
       "      <td>NaN</td>\n",
       "    </tr>\n",
       "    <tr>\n",
       "      <th>963395</th>\n",
       "      <td>NaN</td>\n",
       "      <td>NaT</td>\n",
       "      <td>NaT</td>\n",
       "      <td>NaN</td>\n",
       "      <td>NaN</td>\n",
       "      <td>NaN</td>\n",
       "      <td>NaN</td>\n",
       "      <td>NaN</td>\n",
       "      <td>NaN</td>\n",
       "      <td>NaN</td>\n",
       "      <td>...</td>\n",
       "      <td>NaN</td>\n",
       "      <td>NaN</td>\n",
       "      <td>NaN</td>\n",
       "      <td>NaN</td>\n",
       "      <td>NaN</td>\n",
       "      <td>NaN</td>\n",
       "      <td>NaN</td>\n",
       "      <td>NaN</td>\n",
       "      <td>NaN</td>\n",
       "      <td>NaN</td>\n",
       "    </tr>\n",
       "    <tr>\n",
       "      <th>2215104</th>\n",
       "      <td>NaN</td>\n",
       "      <td>NaT</td>\n",
       "      <td>NaT</td>\n",
       "      <td>NaN</td>\n",
       "      <td>NaN</td>\n",
       "      <td>NaN</td>\n",
       "      <td>NaN</td>\n",
       "      <td>NaN</td>\n",
       "      <td>NaN</td>\n",
       "      <td>NaN</td>\n",
       "      <td>...</td>\n",
       "      <td>NaN</td>\n",
       "      <td>NaN</td>\n",
       "      <td>NaN</td>\n",
       "      <td>NaN</td>\n",
       "      <td>NaN</td>\n",
       "      <td>NaN</td>\n",
       "      <td>NaN</td>\n",
       "      <td>NaN</td>\n",
       "      <td>NaN</td>\n",
       "      <td>NaN</td>\n",
       "    </tr>\n",
       "    <tr>\n",
       "      <th>1484405</th>\n",
       "      <td>NaN</td>\n",
       "      <td>NaT</td>\n",
       "      <td>NaT</td>\n",
       "      <td>NaN</td>\n",
       "      <td>NaN</td>\n",
       "      <td>NaN</td>\n",
       "      <td>NaN</td>\n",
       "      <td>NaN</td>\n",
       "      <td>NaN</td>\n",
       "      <td>NaN</td>\n",
       "      <td>...</td>\n",
       "      <td>NaN</td>\n",
       "      <td>NaN</td>\n",
       "      <td>NaN</td>\n",
       "      <td>NaN</td>\n",
       "      <td>NaN</td>\n",
       "      <td>NaN</td>\n",
       "      <td>NaN</td>\n",
       "      <td>NaN</td>\n",
       "      <td>NaN</td>\n",
       "      <td>NaN</td>\n",
       "    </tr>\n",
       "    <tr>\n",
       "      <th>305711</th>\n",
       "      <td>NaN</td>\n",
       "      <td>NaT</td>\n",
       "      <td>NaT</td>\n",
       "      <td>NaN</td>\n",
       "      <td>NaN</td>\n",
       "      <td>NaN</td>\n",
       "      <td>NaN</td>\n",
       "      <td>NaN</td>\n",
       "      <td>NaN</td>\n",
       "      <td>NaN</td>\n",
       "      <td>...</td>\n",
       "      <td>NaN</td>\n",
       "      <td>NaN</td>\n",
       "      <td>NaN</td>\n",
       "      <td>NaN</td>\n",
       "      <td>NaN</td>\n",
       "      <td>NaN</td>\n",
       "      <td>NaN</td>\n",
       "      <td>NaN</td>\n",
       "      <td>NaN</td>\n",
       "      <td>NaN</td>\n",
       "    </tr>\n",
       "  </tbody>\n",
       "</table>\n",
       "<p>70627 rows × 28 columns</p>\n",
       "</div>"
      ],
      "text/plain": [
       "        VendorID tpep_pickup_datetime tpep_dropoff_datetime  passenger_count  \\\n",
       "11293        NaN                  NaT                   NaT              NaN   \n",
       "3241804      NaN                  NaT                   NaT              NaN   \n",
       "2122208      NaN                  NaT                   NaT              NaN   \n",
       "645015       NaN                  NaT                   NaT              NaN   \n",
       "1752107      NaN                  NaT                   NaT              NaN   \n",
       "...          ...                  ...                   ...              ...   \n",
       "2249467      NaN                  NaT                   NaT              NaN   \n",
       "963395       NaN                  NaT                   NaT              NaN   \n",
       "2215104      NaN                  NaT                   NaT              NaN   \n",
       "1484405      NaN                  NaT                   NaT              NaN   \n",
       "305711       NaN                  NaT                   NaT              NaN   \n",
       "\n",
       "         trip_distance RatecodeID store_and_fwd_flag payment_type  \\\n",
       "11293              NaN        NaN                NaN          NaN   \n",
       "3241804            NaN        NaN                NaN          NaN   \n",
       "2122208            NaN        NaN                NaN          NaN   \n",
       "645015             NaN        NaN                NaN          NaN   \n",
       "1752107            NaN        NaN                NaN          NaN   \n",
       "...                ...        ...                ...          ...   \n",
       "2249467            NaN        NaN                NaN          NaN   \n",
       "963395             NaN        NaN                NaN          NaN   \n",
       "2215104            NaN        NaN                NaN          NaN   \n",
       "1484405            NaN        NaN                NaN          NaN   \n",
       "305711             NaN        NaN                NaN          NaN   \n",
       "\n",
       "         fare_amount  extra  ...  week_of_day  day  hours  isweekend  day_cut  \\\n",
       "11293            NaN    NaN  ...          NaN  NaN    NaN        NaN      NaN   \n",
       "3241804          NaN    NaN  ...          NaN  NaN    NaN        NaN      NaN   \n",
       "2122208          NaN    NaN  ...          NaN  NaN    NaN        NaN      NaN   \n",
       "645015           NaN    NaN  ...          NaN  NaN    NaN        NaN      NaN   \n",
       "1752107          NaN    NaN  ...          NaN  NaN    NaN        NaN      NaN   \n",
       "...              ...    ...  ...          ...  ...    ...        ...      ...   \n",
       "2249467          NaN    NaN  ...          NaN  NaN    NaN        NaN      NaN   \n",
       "963395           NaN    NaN  ...          NaN  NaN    NaN        NaN      NaN   \n",
       "2215104          NaN    NaN  ...          NaN  NaN    NaN        NaN      NaN   \n",
       "1484405          NaN    NaN  ...          NaN  NaN    NaN        NaN      NaN   \n",
       "305711           NaN    NaN  ...          NaN  NaN    NaN        NaN      NaN   \n",
       "\n",
       "         hour_cat  duration  duration_cat  airport_pickup  fare_cut  \n",
       "11293         NaN       NaN           NaN             NaN       NaN  \n",
       "3241804       NaN       NaN           NaN             NaN       NaN  \n",
       "2122208       NaN       NaN           NaN             NaN       NaN  \n",
       "645015        NaN       NaN           NaN             NaN       NaN  \n",
       "1752107       NaN       NaN           NaN             NaN       NaN  \n",
       "...           ...       ...           ...             ...       ...  \n",
       "2249467       NaN       NaN           NaN             NaN       NaN  \n",
       "963395        NaN       NaN           NaN             NaN       NaN  \n",
       "2215104       NaN       NaN           NaN             NaN       NaN  \n",
       "1484405       NaN       NaN           NaN             NaN       NaN  \n",
       "305711        NaN       NaN           NaN             NaN       NaN  \n",
       "\n",
       "[70627 rows x 28 columns]"
      ]
     },
     "execution_count": 77,
     "metadata": {},
     "output_type": "execute_result"
    }
   ],
   "source": [
    "taxi1[taxi1.isnull()]"
   ]
  },
  {
   "cell_type": "code",
   "execution_count": 78,
   "id": "bcfaf6ea",
   "metadata": {},
   "outputs": [],
   "source": [
    "temp0=taxi1[taxi1['passenger_count'].isnull()]"
   ]
  },
  {
   "cell_type": "code",
   "execution_count": 79,
   "id": "7fdb2b80",
   "metadata": {},
   "outputs": [
    {
     "data": {
      "text/plain": [
       "VendorID                    0\n",
       "tpep_pickup_datetime        0\n",
       "tpep_dropoff_datetime       0\n",
       "passenger_count          2658\n",
       "trip_distance               0\n",
       "RatecodeID                  0\n",
       "store_and_fwd_flag          0\n",
       "payment_type                0\n",
       "fare_amount                 0\n",
       "extra                       0\n",
       "mta_tax                     0\n",
       "tip_amount                  0\n",
       "tolls_amount                0\n",
       "total_amount                0\n",
       "congestion_surcharge     2658\n",
       "airport_fee              2658\n",
       "month                       0\n",
       "year                        0\n",
       "week_of_day                 0\n",
       "day                         0\n",
       "hours                       0\n",
       "isweekend                   0\n",
       "day_cut                     0\n",
       "hour_cat                    0\n",
       "duration                    0\n",
       "duration_cat                0\n",
       "airport_pickup              0\n",
       "fare_cut                    0\n",
       "dtype: int64"
      ]
     },
     "execution_count": 79,
     "metadata": {},
     "output_type": "execute_result"
    }
   ],
   "source": [
    "temp0.isnull().sum()"
   ]
  },
  {
   "cell_type": "code",
   "execution_count": 80,
   "id": "76738ecf",
   "metadata": {},
   "outputs": [],
   "source": [
    "taxi2=taxi1.dropna()"
   ]
  },
  {
   "cell_type": "code",
   "execution_count": 81,
   "id": "4fc60da2",
   "metadata": {},
   "outputs": [
    {
     "data": {
      "text/plain": [
       "VendorID                 0\n",
       "tpep_pickup_datetime     0\n",
       "tpep_dropoff_datetime    0\n",
       "passenger_count          0\n",
       "trip_distance            0\n",
       "RatecodeID               0\n",
       "store_and_fwd_flag       0\n",
       "payment_type             0\n",
       "fare_amount              0\n",
       "extra                    0\n",
       "mta_tax                  0\n",
       "tip_amount               0\n",
       "tolls_amount             0\n",
       "total_amount             0\n",
       "congestion_surcharge     0\n",
       "airport_fee              0\n",
       "month                    0\n",
       "year                     0\n",
       "week_of_day              0\n",
       "day                      0\n",
       "hours                    0\n",
       "isweekend                0\n",
       "day_cut                  0\n",
       "hour_cat                 0\n",
       "duration                 0\n",
       "duration_cat             0\n",
       "airport_pickup           0\n",
       "fare_cut                 0\n",
       "dtype: int64"
      ]
     },
     "execution_count": 81,
     "metadata": {},
     "output_type": "execute_result"
    }
   ],
   "source": [
    "taxi2.isnull().sum()"
   ]
  },
  {
   "cell_type": "code",
   "execution_count": 82,
   "id": "0c2e34b3",
   "metadata": {},
   "outputs": [
    {
     "name": "stderr",
     "output_type": "stream",
     "text": [
      "C:\\Users\\ABHAY\\AppData\\Local\\Temp\\ipykernel_10608\\175399171.py:1: SettingWithCopyWarning: \n",
      "A value is trying to be set on a copy of a slice from a DataFrame\n",
      "\n",
      "See the caveats in the documentation: https://pandas.pydata.org/pandas-docs/stable/user_guide/indexing.html#returning-a-view-versus-a-copy\n",
      "  taxi2.drop(columns=['tpep_pickup_datetime','tpep_dropoff_datetime'],inplace=True)\n"
     ]
    }
   ],
   "source": [
    "taxi2.drop(columns=['tpep_pickup_datetime','tpep_dropoff_datetime'],inplace=True)"
   ]
  },
  {
   "cell_type": "code",
   "execution_count": 83,
   "id": "cec2428a",
   "metadata": {},
   "outputs": [
    {
     "name": "stdout",
     "output_type": "stream",
     "text": [
      "<class 'pandas.core.frame.DataFrame'>\n",
      "Int64Index: 67969 entries, 11293 to 305711\n",
      "Data columns (total 26 columns):\n",
      " #   Column                Non-Null Count  Dtype  \n",
      "---  ------                --------------  -----  \n",
      " 0   VendorID              67969 non-null  object \n",
      " 1   passenger_count       67969 non-null  float64\n",
      " 2   trip_distance         67969 non-null  float64\n",
      " 3   RatecodeID            67969 non-null  object \n",
      " 4   store_and_fwd_flag    67969 non-null  object \n",
      " 5   payment_type          67969 non-null  object \n",
      " 6   fare_amount           67969 non-null  float64\n",
      " 7   extra                 67969 non-null  float64\n",
      " 8   mta_tax               67969 non-null  float64\n",
      " 9   tip_amount            67969 non-null  float64\n",
      " 10  tolls_amount          67969 non-null  float64\n",
      " 11  total_amount          67969 non-null  float64\n",
      " 12  congestion_surcharge  67969 non-null  float64\n",
      " 13  airport_fee           67969 non-null  float64\n",
      " 14  month                 67969 non-null  int64  \n",
      " 15  year                  67969 non-null  int64  \n",
      " 16  week_of_day           67969 non-null  int64  \n",
      " 17  day                   67969 non-null  int64  \n",
      " 18  hours                 67969 non-null  int64  \n",
      " 19  isweekend             67969 non-null  int32  \n",
      " 20  day_cut               67969 non-null  object \n",
      " 21  hour_cat              67969 non-null  object \n",
      " 22  duration              67969 non-null  float64\n",
      " 23  duration_cat          67969 non-null  object \n",
      " 24  airport_pickup        67969 non-null  int32  \n",
      " 25  fare_cut              67969 non-null  object \n",
      "dtypes: float64(11), int32(2), int64(5), object(8)\n",
      "memory usage: 13.5+ MB\n"
     ]
    }
   ],
   "source": [
    "taxi2.info()"
   ]
  },
  {
   "cell_type": "markdown",
   "id": "da6b1830",
   "metadata": {},
   "source": [
    "### Outliers"
   ]
  },
  {
   "cell_type": "code",
   "execution_count": 84,
   "id": "7bf434a9",
   "metadata": {
    "scrolled": true
   },
   "outputs": [
    {
     "data": {
      "text/html": [
       "<div>\n",
       "<style scoped>\n",
       "    .dataframe tbody tr th:only-of-type {\n",
       "        vertical-align: middle;\n",
       "    }\n",
       "\n",
       "    .dataframe tbody tr th {\n",
       "        vertical-align: top;\n",
       "    }\n",
       "\n",
       "    .dataframe thead th {\n",
       "        text-align: right;\n",
       "    }\n",
       "</style>\n",
       "<table border=\"1\" class=\"dataframe\">\n",
       "  <thead>\n",
       "    <tr style=\"text-align: right;\">\n",
       "      <th></th>\n",
       "      <th>count</th>\n",
       "      <th>mean</th>\n",
       "      <th>std</th>\n",
       "      <th>min</th>\n",
       "      <th>1%</th>\n",
       "      <th>2%</th>\n",
       "      <th>3%</th>\n",
       "      <th>4%</th>\n",
       "      <th>5%</th>\n",
       "      <th>25%</th>\n",
       "      <th>50%</th>\n",
       "      <th>75%</th>\n",
       "      <th>90%</th>\n",
       "      <th>95%</th>\n",
       "      <th>96%</th>\n",
       "      <th>97%</th>\n",
       "      <th>98%</th>\n",
       "      <th>99%</th>\n",
       "      <th>max</th>\n",
       "    </tr>\n",
       "  </thead>\n",
       "  <tbody>\n",
       "    <tr>\n",
       "      <th>passenger_count</th>\n",
       "      <td>67969.0</td>\n",
       "      <td>1.398682</td>\n",
       "      <td>0.959825</td>\n",
       "      <td>0.0</td>\n",
       "      <td>0.000000</td>\n",
       "      <td>1.000000</td>\n",
       "      <td>1.0</td>\n",
       "      <td>1.000000</td>\n",
       "      <td>1.000000</td>\n",
       "      <td>1.000000</td>\n",
       "      <td>1.000000</td>\n",
       "      <td>1.00</td>\n",
       "      <td>2.00</td>\n",
       "      <td>3.000000</td>\n",
       "      <td>4.0000</td>\n",
       "      <td>4.000000</td>\n",
       "      <td>5.000000</td>\n",
       "      <td>6.000</td>\n",
       "      <td>6.000000</td>\n",
       "    </tr>\n",
       "    <tr>\n",
       "      <th>trip_distance</th>\n",
       "      <td>67969.0</td>\n",
       "      <td>3.541137</td>\n",
       "      <td>4.782556</td>\n",
       "      <td>0.0</td>\n",
       "      <td>0.000000</td>\n",
       "      <td>0.250000</td>\n",
       "      <td>0.4</td>\n",
       "      <td>0.470000</td>\n",
       "      <td>0.510000</td>\n",
       "      <td>1.130000</td>\n",
       "      <td>1.900000</td>\n",
       "      <td>3.55</td>\n",
       "      <td>9.02</td>\n",
       "      <td>15.496000</td>\n",
       "      <td>17.0928</td>\n",
       "      <td>17.879600</td>\n",
       "      <td>18.680000</td>\n",
       "      <td>20.260</td>\n",
       "      <td>410.170000</td>\n",
       "    </tr>\n",
       "    <tr>\n",
       "      <th>fare_amount</th>\n",
       "      <td>67969.0</td>\n",
       "      <td>15.271000</td>\n",
       "      <td>48.398615</td>\n",
       "      <td>2.5</td>\n",
       "      <td>3.500000</td>\n",
       "      <td>4.000000</td>\n",
       "      <td>4.0</td>\n",
       "      <td>4.500000</td>\n",
       "      <td>4.500000</td>\n",
       "      <td>7.000000</td>\n",
       "      <td>10.500000</td>\n",
       "      <td>16.50</td>\n",
       "      <td>31.20</td>\n",
       "      <td>52.000000</td>\n",
       "      <td>52.0000</td>\n",
       "      <td>52.000000</td>\n",
       "      <td>52.000000</td>\n",
       "      <td>62.500</td>\n",
       "      <td>6977.000000</td>\n",
       "    </tr>\n",
       "    <tr>\n",
       "      <th>extra</th>\n",
       "      <td>67969.0</td>\n",
       "      <td>1.069702</td>\n",
       "      <td>1.263564</td>\n",
       "      <td>0.0</td>\n",
       "      <td>0.000000</td>\n",
       "      <td>0.000000</td>\n",
       "      <td>0.0</td>\n",
       "      <td>0.000000</td>\n",
       "      <td>0.000000</td>\n",
       "      <td>0.000000</td>\n",
       "      <td>0.500000</td>\n",
       "      <td>2.50</td>\n",
       "      <td>3.00</td>\n",
       "      <td>3.500000</td>\n",
       "      <td>3.5000</td>\n",
       "      <td>3.500000</td>\n",
       "      <td>3.500000</td>\n",
       "      <td>3.750</td>\n",
       "      <td>8.250000</td>\n",
       "    </tr>\n",
       "    <tr>\n",
       "      <th>mta_tax</th>\n",
       "      <td>67969.0</td>\n",
       "      <td>0.494910</td>\n",
       "      <td>0.052014</td>\n",
       "      <td>0.0</td>\n",
       "      <td>0.000000</td>\n",
       "      <td>0.500000</td>\n",
       "      <td>0.5</td>\n",
       "      <td>0.500000</td>\n",
       "      <td>0.500000</td>\n",
       "      <td>0.500000</td>\n",
       "      <td>0.500000</td>\n",
       "      <td>0.50</td>\n",
       "      <td>0.50</td>\n",
       "      <td>0.500000</td>\n",
       "      <td>0.5000</td>\n",
       "      <td>0.500000</td>\n",
       "      <td>0.500000</td>\n",
       "      <td>0.500</td>\n",
       "      <td>2.780000</td>\n",
       "    </tr>\n",
       "    <tr>\n",
       "      <th>tip_amount</th>\n",
       "      <td>67969.0</td>\n",
       "      <td>2.765738</td>\n",
       "      <td>3.209275</td>\n",
       "      <td>0.0</td>\n",
       "      <td>0.000000</td>\n",
       "      <td>0.000000</td>\n",
       "      <td>0.0</td>\n",
       "      <td>0.000000</td>\n",
       "      <td>0.000000</td>\n",
       "      <td>1.000000</td>\n",
       "      <td>2.160000</td>\n",
       "      <td>3.36</td>\n",
       "      <td>5.66</td>\n",
       "      <td>9.550000</td>\n",
       "      <td>10.2700</td>\n",
       "      <td>11.960000</td>\n",
       "      <td>12.620000</td>\n",
       "      <td>15.000</td>\n",
       "      <td>98.000000</td>\n",
       "    </tr>\n",
       "    <tr>\n",
       "      <th>tolls_amount</th>\n",
       "      <td>67969.0</td>\n",
       "      <td>0.562375</td>\n",
       "      <td>2.062867</td>\n",
       "      <td>0.0</td>\n",
       "      <td>0.000000</td>\n",
       "      <td>0.000000</td>\n",
       "      <td>0.0</td>\n",
       "      <td>0.000000</td>\n",
       "      <td>0.000000</td>\n",
       "      <td>0.000000</td>\n",
       "      <td>0.000000</td>\n",
       "      <td>0.00</td>\n",
       "      <td>0.00</td>\n",
       "      <td>6.550000</td>\n",
       "      <td>6.5500</td>\n",
       "      <td>6.550000</td>\n",
       "      <td>6.550000</td>\n",
       "      <td>6.550</td>\n",
       "      <td>52.000000</td>\n",
       "    </tr>\n",
       "    <tr>\n",
       "      <th>total_amount</th>\n",
       "      <td>67969.0</td>\n",
       "      <td>22.169266</td>\n",
       "      <td>49.525152</td>\n",
       "      <td>3.3</td>\n",
       "      <td>6.800000</td>\n",
       "      <td>7.800000</td>\n",
       "      <td>8.3</td>\n",
       "      <td>8.760000</td>\n",
       "      <td>8.800000</td>\n",
       "      <td>12.350000</td>\n",
       "      <td>15.960000</td>\n",
       "      <td>22.88</td>\n",
       "      <td>43.35</td>\n",
       "      <td>63.100000</td>\n",
       "      <td>67.8528</td>\n",
       "      <td>73.100000</td>\n",
       "      <td>75.720000</td>\n",
       "      <td>81.120</td>\n",
       "      <td>6981.300000</td>\n",
       "    </tr>\n",
       "    <tr>\n",
       "      <th>congestion_surcharge</th>\n",
       "      <td>67969.0</td>\n",
       "      <td>2.307670</td>\n",
       "      <td>0.666214</td>\n",
       "      <td>0.0</td>\n",
       "      <td>0.000000</td>\n",
       "      <td>0.000000</td>\n",
       "      <td>0.0</td>\n",
       "      <td>0.000000</td>\n",
       "      <td>0.000000</td>\n",
       "      <td>2.500000</td>\n",
       "      <td>2.500000</td>\n",
       "      <td>2.50</td>\n",
       "      <td>2.50</td>\n",
       "      <td>2.500000</td>\n",
       "      <td>2.5000</td>\n",
       "      <td>2.500000</td>\n",
       "      <td>2.500000</td>\n",
       "      <td>2.500</td>\n",
       "      <td>2.500000</td>\n",
       "    </tr>\n",
       "    <tr>\n",
       "      <th>airport_fee</th>\n",
       "      <td>67969.0</td>\n",
       "      <td>0.097361</td>\n",
       "      <td>0.334997</td>\n",
       "      <td>0.0</td>\n",
       "      <td>0.000000</td>\n",
       "      <td>0.000000</td>\n",
       "      <td>0.0</td>\n",
       "      <td>0.000000</td>\n",
       "      <td>0.000000</td>\n",
       "      <td>0.000000</td>\n",
       "      <td>0.000000</td>\n",
       "      <td>0.00</td>\n",
       "      <td>0.00</td>\n",
       "      <td>1.250000</td>\n",
       "      <td>1.2500</td>\n",
       "      <td>1.250000</td>\n",
       "      <td>1.250000</td>\n",
       "      <td>1.250</td>\n",
       "      <td>1.250000</td>\n",
       "    </tr>\n",
       "    <tr>\n",
       "      <th>month</th>\n",
       "      <td>67969.0</td>\n",
       "      <td>6.000000</td>\n",
       "      <td>0.000000</td>\n",
       "      <td>6.0</td>\n",
       "      <td>6.000000</td>\n",
       "      <td>6.000000</td>\n",
       "      <td>6.0</td>\n",
       "      <td>6.000000</td>\n",
       "      <td>6.000000</td>\n",
       "      <td>6.000000</td>\n",
       "      <td>6.000000</td>\n",
       "      <td>6.00</td>\n",
       "      <td>6.00</td>\n",
       "      <td>6.000000</td>\n",
       "      <td>6.0000</td>\n",
       "      <td>6.000000</td>\n",
       "      <td>6.000000</td>\n",
       "      <td>6.000</td>\n",
       "      <td>6.000000</td>\n",
       "    </tr>\n",
       "    <tr>\n",
       "      <th>year</th>\n",
       "      <td>67969.0</td>\n",
       "      <td>2022.000000</td>\n",
       "      <td>0.000000</td>\n",
       "      <td>2022.0</td>\n",
       "      <td>2022.000000</td>\n",
       "      <td>2022.000000</td>\n",
       "      <td>2022.0</td>\n",
       "      <td>2022.000000</td>\n",
       "      <td>2022.000000</td>\n",
       "      <td>2022.000000</td>\n",
       "      <td>2022.000000</td>\n",
       "      <td>2022.00</td>\n",
       "      <td>2022.00</td>\n",
       "      <td>2022.000000</td>\n",
       "      <td>2022.0000</td>\n",
       "      <td>2022.000000</td>\n",
       "      <td>2022.000000</td>\n",
       "      <td>2022.000</td>\n",
       "      <td>2022.000000</td>\n",
       "    </tr>\n",
       "    <tr>\n",
       "      <th>week_of_day</th>\n",
       "      <td>67969.0</td>\n",
       "      <td>2.936912</td>\n",
       "      <td>1.863506</td>\n",
       "      <td>0.0</td>\n",
       "      <td>0.000000</td>\n",
       "      <td>0.000000</td>\n",
       "      <td>0.0</td>\n",
       "      <td>0.000000</td>\n",
       "      <td>0.000000</td>\n",
       "      <td>1.000000</td>\n",
       "      <td>3.000000</td>\n",
       "      <td>4.00</td>\n",
       "      <td>6.00</td>\n",
       "      <td>6.000000</td>\n",
       "      <td>6.0000</td>\n",
       "      <td>6.000000</td>\n",
       "      <td>6.000000</td>\n",
       "      <td>6.000</td>\n",
       "      <td>6.000000</td>\n",
       "    </tr>\n",
       "    <tr>\n",
       "      <th>day</th>\n",
       "      <td>67969.0</td>\n",
       "      <td>15.241846</td>\n",
       "      <td>8.632825</td>\n",
       "      <td>1.0</td>\n",
       "      <td>1.000000</td>\n",
       "      <td>1.000000</td>\n",
       "      <td>1.0</td>\n",
       "      <td>2.000000</td>\n",
       "      <td>2.000000</td>\n",
       "      <td>8.000000</td>\n",
       "      <td>15.000000</td>\n",
       "      <td>23.00</td>\n",
       "      <td>27.00</td>\n",
       "      <td>29.000000</td>\n",
       "      <td>29.0000</td>\n",
       "      <td>30.000000</td>\n",
       "      <td>30.000000</td>\n",
       "      <td>30.000</td>\n",
       "      <td>30.000000</td>\n",
       "    </tr>\n",
       "    <tr>\n",
       "      <th>hours</th>\n",
       "      <td>67969.0</td>\n",
       "      <td>14.199194</td>\n",
       "      <td>5.788724</td>\n",
       "      <td>0.0</td>\n",
       "      <td>0.000000</td>\n",
       "      <td>0.000000</td>\n",
       "      <td>1.0</td>\n",
       "      <td>1.000000</td>\n",
       "      <td>2.000000</td>\n",
       "      <td>10.000000</td>\n",
       "      <td>15.000000</td>\n",
       "      <td>19.00</td>\n",
       "      <td>21.00</td>\n",
       "      <td>22.000000</td>\n",
       "      <td>23.0000</td>\n",
       "      <td>23.000000</td>\n",
       "      <td>23.000000</td>\n",
       "      <td>23.000</td>\n",
       "      <td>23.000000</td>\n",
       "    </tr>\n",
       "    <tr>\n",
       "      <th>isweekend</th>\n",
       "      <td>67969.0</td>\n",
       "      <td>0.243920</td>\n",
       "      <td>0.429448</td>\n",
       "      <td>0.0</td>\n",
       "      <td>0.000000</td>\n",
       "      <td>0.000000</td>\n",
       "      <td>0.0</td>\n",
       "      <td>0.000000</td>\n",
       "      <td>0.000000</td>\n",
       "      <td>0.000000</td>\n",
       "      <td>0.000000</td>\n",
       "      <td>0.00</td>\n",
       "      <td>1.00</td>\n",
       "      <td>1.000000</td>\n",
       "      <td>1.0000</td>\n",
       "      <td>1.000000</td>\n",
       "      <td>1.000000</td>\n",
       "      <td>1.000</td>\n",
       "      <td>1.000000</td>\n",
       "    </tr>\n",
       "    <tr>\n",
       "      <th>duration</th>\n",
       "      <td>67969.0</td>\n",
       "      <td>17.973287</td>\n",
       "      <td>50.867526</td>\n",
       "      <td>0.0</td>\n",
       "      <td>0.366667</td>\n",
       "      <td>1.916667</td>\n",
       "      <td>2.6</td>\n",
       "      <td>3.033333</td>\n",
       "      <td>3.416667</td>\n",
       "      <td>7.616667</td>\n",
       "      <td>12.533333</td>\n",
       "      <td>20.20</td>\n",
       "      <td>32.00</td>\n",
       "      <td>43.666667</td>\n",
       "      <td>47.7000</td>\n",
       "      <td>52.766667</td>\n",
       "      <td>59.916667</td>\n",
       "      <td>71.472</td>\n",
       "      <td>1439.416667</td>\n",
       "    </tr>\n",
       "    <tr>\n",
       "      <th>airport_pickup</th>\n",
       "      <td>67969.0</td>\n",
       "      <td>0.077888</td>\n",
       "      <td>0.267998</td>\n",
       "      <td>0.0</td>\n",
       "      <td>0.000000</td>\n",
       "      <td>0.000000</td>\n",
       "      <td>0.0</td>\n",
       "      <td>0.000000</td>\n",
       "      <td>0.000000</td>\n",
       "      <td>0.000000</td>\n",
       "      <td>0.000000</td>\n",
       "      <td>0.00</td>\n",
       "      <td>0.00</td>\n",
       "      <td>1.000000</td>\n",
       "      <td>1.0000</td>\n",
       "      <td>1.000000</td>\n",
       "      <td>1.000000</td>\n",
       "      <td>1.000</td>\n",
       "      <td>1.000000</td>\n",
       "    </tr>\n",
       "  </tbody>\n",
       "</table>\n",
       "</div>"
      ],
      "text/plain": [
       "                        count         mean        std     min           1%  \\\n",
       "passenger_count       67969.0     1.398682   0.959825     0.0     0.000000   \n",
       "trip_distance         67969.0     3.541137   4.782556     0.0     0.000000   \n",
       "fare_amount           67969.0    15.271000  48.398615     2.5     3.500000   \n",
       "extra                 67969.0     1.069702   1.263564     0.0     0.000000   \n",
       "mta_tax               67969.0     0.494910   0.052014     0.0     0.000000   \n",
       "tip_amount            67969.0     2.765738   3.209275     0.0     0.000000   \n",
       "tolls_amount          67969.0     0.562375   2.062867     0.0     0.000000   \n",
       "total_amount          67969.0    22.169266  49.525152     3.3     6.800000   \n",
       "congestion_surcharge  67969.0     2.307670   0.666214     0.0     0.000000   \n",
       "airport_fee           67969.0     0.097361   0.334997     0.0     0.000000   \n",
       "month                 67969.0     6.000000   0.000000     6.0     6.000000   \n",
       "year                  67969.0  2022.000000   0.000000  2022.0  2022.000000   \n",
       "week_of_day           67969.0     2.936912   1.863506     0.0     0.000000   \n",
       "day                   67969.0    15.241846   8.632825     1.0     1.000000   \n",
       "hours                 67969.0    14.199194   5.788724     0.0     0.000000   \n",
       "isweekend             67969.0     0.243920   0.429448     0.0     0.000000   \n",
       "duration              67969.0    17.973287  50.867526     0.0     0.366667   \n",
       "airport_pickup        67969.0     0.077888   0.267998     0.0     0.000000   \n",
       "\n",
       "                               2%      3%           4%           5%  \\\n",
       "passenger_count          1.000000     1.0     1.000000     1.000000   \n",
       "trip_distance            0.250000     0.4     0.470000     0.510000   \n",
       "fare_amount              4.000000     4.0     4.500000     4.500000   \n",
       "extra                    0.000000     0.0     0.000000     0.000000   \n",
       "mta_tax                  0.500000     0.5     0.500000     0.500000   \n",
       "tip_amount               0.000000     0.0     0.000000     0.000000   \n",
       "tolls_amount             0.000000     0.0     0.000000     0.000000   \n",
       "total_amount             7.800000     8.3     8.760000     8.800000   \n",
       "congestion_surcharge     0.000000     0.0     0.000000     0.000000   \n",
       "airport_fee              0.000000     0.0     0.000000     0.000000   \n",
       "month                    6.000000     6.0     6.000000     6.000000   \n",
       "year                  2022.000000  2022.0  2022.000000  2022.000000   \n",
       "week_of_day              0.000000     0.0     0.000000     0.000000   \n",
       "day                      1.000000     1.0     2.000000     2.000000   \n",
       "hours                    0.000000     1.0     1.000000     2.000000   \n",
       "isweekend                0.000000     0.0     0.000000     0.000000   \n",
       "duration                 1.916667     2.6     3.033333     3.416667   \n",
       "airport_pickup           0.000000     0.0     0.000000     0.000000   \n",
       "\n",
       "                              25%          50%      75%      90%          95%  \\\n",
       "passenger_count          1.000000     1.000000     1.00     2.00     3.000000   \n",
       "trip_distance            1.130000     1.900000     3.55     9.02    15.496000   \n",
       "fare_amount              7.000000    10.500000    16.50    31.20    52.000000   \n",
       "extra                    0.000000     0.500000     2.50     3.00     3.500000   \n",
       "mta_tax                  0.500000     0.500000     0.50     0.50     0.500000   \n",
       "tip_amount               1.000000     2.160000     3.36     5.66     9.550000   \n",
       "tolls_amount             0.000000     0.000000     0.00     0.00     6.550000   \n",
       "total_amount            12.350000    15.960000    22.88    43.35    63.100000   \n",
       "congestion_surcharge     2.500000     2.500000     2.50     2.50     2.500000   \n",
       "airport_fee              0.000000     0.000000     0.00     0.00     1.250000   \n",
       "month                    6.000000     6.000000     6.00     6.00     6.000000   \n",
       "year                  2022.000000  2022.000000  2022.00  2022.00  2022.000000   \n",
       "week_of_day              1.000000     3.000000     4.00     6.00     6.000000   \n",
       "day                      8.000000    15.000000    23.00    27.00    29.000000   \n",
       "hours                   10.000000    15.000000    19.00    21.00    22.000000   \n",
       "isweekend                0.000000     0.000000     0.00     1.00     1.000000   \n",
       "duration                 7.616667    12.533333    20.20    32.00    43.666667   \n",
       "airport_pickup           0.000000     0.000000     0.00     0.00     1.000000   \n",
       "\n",
       "                            96%          97%          98%       99%  \\\n",
       "passenger_count          4.0000     4.000000     5.000000     6.000   \n",
       "trip_distance           17.0928    17.879600    18.680000    20.260   \n",
       "fare_amount             52.0000    52.000000    52.000000    62.500   \n",
       "extra                    3.5000     3.500000     3.500000     3.750   \n",
       "mta_tax                  0.5000     0.500000     0.500000     0.500   \n",
       "tip_amount              10.2700    11.960000    12.620000    15.000   \n",
       "tolls_amount             6.5500     6.550000     6.550000     6.550   \n",
       "total_amount            67.8528    73.100000    75.720000    81.120   \n",
       "congestion_surcharge     2.5000     2.500000     2.500000     2.500   \n",
       "airport_fee              1.2500     1.250000     1.250000     1.250   \n",
       "month                    6.0000     6.000000     6.000000     6.000   \n",
       "year                  2022.0000  2022.000000  2022.000000  2022.000   \n",
       "week_of_day              6.0000     6.000000     6.000000     6.000   \n",
       "day                     29.0000    30.000000    30.000000    30.000   \n",
       "hours                   23.0000    23.000000    23.000000    23.000   \n",
       "isweekend                1.0000     1.000000     1.000000     1.000   \n",
       "duration                47.7000    52.766667    59.916667    71.472   \n",
       "airport_pickup           1.0000     1.000000     1.000000     1.000   \n",
       "\n",
       "                              max  \n",
       "passenger_count          6.000000  \n",
       "trip_distance          410.170000  \n",
       "fare_amount           6977.000000  \n",
       "extra                    8.250000  \n",
       "mta_tax                  2.780000  \n",
       "tip_amount              98.000000  \n",
       "tolls_amount            52.000000  \n",
       "total_amount          6981.300000  \n",
       "congestion_surcharge     2.500000  \n",
       "airport_fee              1.250000  \n",
       "month                    6.000000  \n",
       "year                  2022.000000  \n",
       "week_of_day              6.000000  \n",
       "day                     30.000000  \n",
       "hours                   23.000000  \n",
       "isweekend                1.000000  \n",
       "duration              1439.416667  \n",
       "airport_pickup           1.000000  "
      ]
     },
     "execution_count": 84,
     "metadata": {},
     "output_type": "execute_result"
    }
   ],
   "source": [
    "taxi2.describe(percentiles=[.01,.02,.03,.04,.05,.25,.5,.75,.9,.95,.96,.97,.98,.99]).T"
   ]
  },
  {
   "cell_type": "code",
   "execution_count": 85,
   "id": "83889de2",
   "metadata": {},
   "outputs": [],
   "source": [
    "ob_var=taxi2.dtypes[taxi2.dtypes=='object'].index\n",
    "num_var=taxi2.dtypes[taxi2.dtypes!='object'].index"
   ]
  },
  {
   "cell_type": "code",
   "execution_count": 86,
   "id": "53228d46",
   "metadata": {},
   "outputs": [],
   "source": [
    "taxi_num=taxi2[num_var]\n",
    "taxi_ob=taxi2[ob_var]"
   ]
  },
  {
   "cell_type": "code",
   "execution_count": 87,
   "id": "d2adc1ec",
   "metadata": {},
   "outputs": [],
   "source": [
    "def outliers(x):\n",
    "    x=x.clip(upper=x.quantile(.99))\n",
    "#   x=x.clip(lower=x.quantile(.1))\n",
    "    return x"
   ]
  },
  {
   "cell_type": "code",
   "execution_count": 88,
   "id": "17538ac0",
   "metadata": {},
   "outputs": [],
   "source": [
    "taxi_num1=taxi_num.apply(outliers)"
   ]
  },
  {
   "cell_type": "code",
   "execution_count": 89,
   "id": "043c76a8",
   "metadata": {},
   "outputs": [
    {
     "data": {
      "text/html": [
       "<div>\n",
       "<style scoped>\n",
       "    .dataframe tbody tr th:only-of-type {\n",
       "        vertical-align: middle;\n",
       "    }\n",
       "\n",
       "    .dataframe tbody tr th {\n",
       "        vertical-align: top;\n",
       "    }\n",
       "\n",
       "    .dataframe thead th {\n",
       "        text-align: right;\n",
       "    }\n",
       "</style>\n",
       "<table border=\"1\" class=\"dataframe\">\n",
       "  <thead>\n",
       "    <tr style=\"text-align: right;\">\n",
       "      <th></th>\n",
       "      <th>passenger_count</th>\n",
       "      <th>trip_distance</th>\n",
       "      <th>fare_amount</th>\n",
       "      <th>extra</th>\n",
       "      <th>mta_tax</th>\n",
       "      <th>tip_amount</th>\n",
       "      <th>tolls_amount</th>\n",
       "      <th>total_amount</th>\n",
       "      <th>congestion_surcharge</th>\n",
       "      <th>airport_fee</th>\n",
       "      <th>month</th>\n",
       "      <th>year</th>\n",
       "      <th>week_of_day</th>\n",
       "      <th>day</th>\n",
       "      <th>hours</th>\n",
       "      <th>isweekend</th>\n",
       "      <th>duration</th>\n",
       "      <th>airport_pickup</th>\n",
       "    </tr>\n",
       "  </thead>\n",
       "  <tbody>\n",
       "    <tr>\n",
       "      <th>11293</th>\n",
       "      <td>1.0</td>\n",
       "      <td>1.75</td>\n",
       "      <td>9.5</td>\n",
       "      <td>0.0</td>\n",
       "      <td>0.5</td>\n",
       "      <td>2.00</td>\n",
       "      <td>0.00</td>\n",
       "      <td>14.80</td>\n",
       "      <td>2.5</td>\n",
       "      <td>0.0</td>\n",
       "      <td>6</td>\n",
       "      <td>2022</td>\n",
       "      <td>2</td>\n",
       "      <td>1</td>\n",
       "      <td>8</td>\n",
       "      <td>0</td>\n",
       "      <td>12.166667</td>\n",
       "      <td>0</td>\n",
       "    </tr>\n",
       "    <tr>\n",
       "      <th>3241804</th>\n",
       "      <td>1.0</td>\n",
       "      <td>9.16</td>\n",
       "      <td>36.0</td>\n",
       "      <td>0.0</td>\n",
       "      <td>0.5</td>\n",
       "      <td>0.00</td>\n",
       "      <td>0.00</td>\n",
       "      <td>39.30</td>\n",
       "      <td>2.5</td>\n",
       "      <td>0.0</td>\n",
       "      <td>6</td>\n",
       "      <td>2022</td>\n",
       "      <td>2</td>\n",
       "      <td>29</td>\n",
       "      <td>12</td>\n",
       "      <td>0</td>\n",
       "      <td>49.183333</td>\n",
       "      <td>0</td>\n",
       "    </tr>\n",
       "    <tr>\n",
       "      <th>2122208</th>\n",
       "      <td>1.0</td>\n",
       "      <td>5.00</td>\n",
       "      <td>20.0</td>\n",
       "      <td>3.0</td>\n",
       "      <td>0.5</td>\n",
       "      <td>2.00</td>\n",
       "      <td>0.00</td>\n",
       "      <td>25.80</td>\n",
       "      <td>2.5</td>\n",
       "      <td>0.0</td>\n",
       "      <td>6</td>\n",
       "      <td>2022</td>\n",
       "      <td>6</td>\n",
       "      <td>19</td>\n",
       "      <td>1</td>\n",
       "      <td>1</td>\n",
       "      <td>23.900000</td>\n",
       "      <td>0</td>\n",
       "    </tr>\n",
       "    <tr>\n",
       "      <th>645015</th>\n",
       "      <td>1.0</td>\n",
       "      <td>3.02</td>\n",
       "      <td>13.5</td>\n",
       "      <td>1.0</td>\n",
       "      <td>0.5</td>\n",
       "      <td>1.78</td>\n",
       "      <td>0.00</td>\n",
       "      <td>19.58</td>\n",
       "      <td>2.5</td>\n",
       "      <td>0.0</td>\n",
       "      <td>6</td>\n",
       "      <td>2022</td>\n",
       "      <td>0</td>\n",
       "      <td>6</td>\n",
       "      <td>17</td>\n",
       "      <td>0</td>\n",
       "      <td>18.900000</td>\n",
       "      <td>0</td>\n",
       "    </tr>\n",
       "    <tr>\n",
       "      <th>1752107</th>\n",
       "      <td>1.0</td>\n",
       "      <td>3.53</td>\n",
       "      <td>14.5</td>\n",
       "      <td>0.5</td>\n",
       "      <td>0.5</td>\n",
       "      <td>2.74</td>\n",
       "      <td>0.00</td>\n",
       "      <td>21.04</td>\n",
       "      <td>2.5</td>\n",
       "      <td>0.0</td>\n",
       "      <td>6</td>\n",
       "      <td>2022</td>\n",
       "      <td>2</td>\n",
       "      <td>15</td>\n",
       "      <td>22</td>\n",
       "      <td>0</td>\n",
       "      <td>18.483333</td>\n",
       "      <td>0</td>\n",
       "    </tr>\n",
       "    <tr>\n",
       "      <th>...</th>\n",
       "      <td>...</td>\n",
       "      <td>...</td>\n",
       "      <td>...</td>\n",
       "      <td>...</td>\n",
       "      <td>...</td>\n",
       "      <td>...</td>\n",
       "      <td>...</td>\n",
       "      <td>...</td>\n",
       "      <td>...</td>\n",
       "      <td>...</td>\n",
       "      <td>...</td>\n",
       "      <td>...</td>\n",
       "      <td>...</td>\n",
       "      <td>...</td>\n",
       "      <td>...</td>\n",
       "      <td>...</td>\n",
       "      <td>...</td>\n",
       "      <td>...</td>\n",
       "    </tr>\n",
       "    <tr>\n",
       "      <th>2249467</th>\n",
       "      <td>1.0</td>\n",
       "      <td>4.49</td>\n",
       "      <td>17.0</td>\n",
       "      <td>0.0</td>\n",
       "      <td>0.5</td>\n",
       "      <td>2.00</td>\n",
       "      <td>0.00</td>\n",
       "      <td>22.30</td>\n",
       "      <td>2.5</td>\n",
       "      <td>0.0</td>\n",
       "      <td>6</td>\n",
       "      <td>2022</td>\n",
       "      <td>0</td>\n",
       "      <td>20</td>\n",
       "      <td>14</td>\n",
       "      <td>0</td>\n",
       "      <td>18.200000</td>\n",
       "      <td>0</td>\n",
       "    </tr>\n",
       "    <tr>\n",
       "      <th>963395</th>\n",
       "      <td>1.0</td>\n",
       "      <td>1.51</td>\n",
       "      <td>8.5</td>\n",
       "      <td>0.0</td>\n",
       "      <td>0.5</td>\n",
       "      <td>2.36</td>\n",
       "      <td>0.00</td>\n",
       "      <td>14.16</td>\n",
       "      <td>2.5</td>\n",
       "      <td>0.0</td>\n",
       "      <td>6</td>\n",
       "      <td>2022</td>\n",
       "      <td>3</td>\n",
       "      <td>9</td>\n",
       "      <td>10</td>\n",
       "      <td>0</td>\n",
       "      <td>9.166667</td>\n",
       "      <td>0</td>\n",
       "    </tr>\n",
       "    <tr>\n",
       "      <th>2215104</th>\n",
       "      <td>0.0</td>\n",
       "      <td>8.90</td>\n",
       "      <td>25.5</td>\n",
       "      <td>2.5</td>\n",
       "      <td>0.5</td>\n",
       "      <td>5.30</td>\n",
       "      <td>6.55</td>\n",
       "      <td>40.65</td>\n",
       "      <td>2.5</td>\n",
       "      <td>0.0</td>\n",
       "      <td>6</td>\n",
       "      <td>2022</td>\n",
       "      <td>0</td>\n",
       "      <td>20</td>\n",
       "      <td>6</td>\n",
       "      <td>0</td>\n",
       "      <td>16.250000</td>\n",
       "      <td>0</td>\n",
       "    </tr>\n",
       "    <tr>\n",
       "      <th>1484405</th>\n",
       "      <td>3.0</td>\n",
       "      <td>0.90</td>\n",
       "      <td>5.0</td>\n",
       "      <td>1.0</td>\n",
       "      <td>0.5</td>\n",
       "      <td>0.00</td>\n",
       "      <td>0.00</td>\n",
       "      <td>9.30</td>\n",
       "      <td>2.5</td>\n",
       "      <td>0.0</td>\n",
       "      <td>6</td>\n",
       "      <td>2022</td>\n",
       "      <td>0</td>\n",
       "      <td>13</td>\n",
       "      <td>19</td>\n",
       "      <td>0</td>\n",
       "      <td>4.183333</td>\n",
       "      <td>0</td>\n",
       "    </tr>\n",
       "    <tr>\n",
       "      <th>305711</th>\n",
       "      <td>1.0</td>\n",
       "      <td>0.87</td>\n",
       "      <td>5.0</td>\n",
       "      <td>1.0</td>\n",
       "      <td>0.5</td>\n",
       "      <td>0.00</td>\n",
       "      <td>0.00</td>\n",
       "      <td>9.30</td>\n",
       "      <td>2.5</td>\n",
       "      <td>0.0</td>\n",
       "      <td>6</td>\n",
       "      <td>2022</td>\n",
       "      <td>4</td>\n",
       "      <td>3</td>\n",
       "      <td>16</td>\n",
       "      <td>0</td>\n",
       "      <td>4.083333</td>\n",
       "      <td>0</td>\n",
       "    </tr>\n",
       "  </tbody>\n",
       "</table>\n",
       "<p>67969 rows × 18 columns</p>\n",
       "</div>"
      ],
      "text/plain": [
       "         passenger_count  trip_distance  fare_amount  extra  mta_tax  \\\n",
       "11293                1.0           1.75          9.5    0.0      0.5   \n",
       "3241804              1.0           9.16         36.0    0.0      0.5   \n",
       "2122208              1.0           5.00         20.0    3.0      0.5   \n",
       "645015               1.0           3.02         13.5    1.0      0.5   \n",
       "1752107              1.0           3.53         14.5    0.5      0.5   \n",
       "...                  ...            ...          ...    ...      ...   \n",
       "2249467              1.0           4.49         17.0    0.0      0.5   \n",
       "963395               1.0           1.51          8.5    0.0      0.5   \n",
       "2215104              0.0           8.90         25.5    2.5      0.5   \n",
       "1484405              3.0           0.90          5.0    1.0      0.5   \n",
       "305711               1.0           0.87          5.0    1.0      0.5   \n",
       "\n",
       "         tip_amount  tolls_amount  total_amount  congestion_surcharge  \\\n",
       "11293          2.00          0.00         14.80                   2.5   \n",
       "3241804        0.00          0.00         39.30                   2.5   \n",
       "2122208        2.00          0.00         25.80                   2.5   \n",
       "645015         1.78          0.00         19.58                   2.5   \n",
       "1752107        2.74          0.00         21.04                   2.5   \n",
       "...             ...           ...           ...                   ...   \n",
       "2249467        2.00          0.00         22.30                   2.5   \n",
       "963395         2.36          0.00         14.16                   2.5   \n",
       "2215104        5.30          6.55         40.65                   2.5   \n",
       "1484405        0.00          0.00          9.30                   2.5   \n",
       "305711         0.00          0.00          9.30                   2.5   \n",
       "\n",
       "         airport_fee  month  year  week_of_day  day  hours  isweekend  \\\n",
       "11293            0.0      6  2022            2    1      8          0   \n",
       "3241804          0.0      6  2022            2   29     12          0   \n",
       "2122208          0.0      6  2022            6   19      1          1   \n",
       "645015           0.0      6  2022            0    6     17          0   \n",
       "1752107          0.0      6  2022            2   15     22          0   \n",
       "...              ...    ...   ...          ...  ...    ...        ...   \n",
       "2249467          0.0      6  2022            0   20     14          0   \n",
       "963395           0.0      6  2022            3    9     10          0   \n",
       "2215104          0.0      6  2022            0   20      6          0   \n",
       "1484405          0.0      6  2022            0   13     19          0   \n",
       "305711           0.0      6  2022            4    3     16          0   \n",
       "\n",
       "          duration  airport_pickup  \n",
       "11293    12.166667               0  \n",
       "3241804  49.183333               0  \n",
       "2122208  23.900000               0  \n",
       "645015   18.900000               0  \n",
       "1752107  18.483333               0  \n",
       "...            ...             ...  \n",
       "2249467  18.200000               0  \n",
       "963395    9.166667               0  \n",
       "2215104  16.250000               0  \n",
       "1484405   4.183333               0  \n",
       "305711    4.083333               0  \n",
       "\n",
       "[67969 rows x 18 columns]"
      ]
     },
     "execution_count": 89,
     "metadata": {},
     "output_type": "execute_result"
    }
   ],
   "source": [
    "taxi_num1"
   ]
  },
  {
   "cell_type": "code",
   "execution_count": 90,
   "id": "038bbc22",
   "metadata": {},
   "outputs": [],
   "source": [
    "taxi_final=pd.concat([taxi_num1,taxi_ob],axis=1)"
   ]
  },
  {
   "cell_type": "code",
   "execution_count": 91,
   "id": "53f7ed68",
   "metadata": {},
   "outputs": [],
   "source": [
    "taxi_final.drop(columns=['month','year'],inplace=True)"
   ]
  },
  {
   "cell_type": "code",
   "execution_count": 92,
   "id": "5ba87dd7",
   "metadata": {},
   "outputs": [],
   "source": [
    "taxi_final.drop(columns='fare_amount',inplace=True)"
   ]
  },
  {
   "cell_type": "code",
   "execution_count": 94,
   "id": "9904ecdb",
   "metadata": {},
   "outputs": [
    {
     "name": "stdout",
     "output_type": "stream",
     "text": [
      "<class 'pandas.core.frame.DataFrame'>\n",
      "Int64Index: 67969 entries, 11293 to 305711\n",
      "Data columns (total 23 columns):\n",
      " #   Column                Non-Null Count  Dtype  \n",
      "---  ------                --------------  -----  \n",
      " 0   passenger_count       67969 non-null  float64\n",
      " 1   trip_distance         67969 non-null  float64\n",
      " 2   extra                 67969 non-null  float64\n",
      " 3   mta_tax               67969 non-null  float64\n",
      " 4   tip_amount            67969 non-null  float64\n",
      " 5   tolls_amount          67969 non-null  float64\n",
      " 6   total_amount          67969 non-null  float64\n",
      " 7   congestion_surcharge  67969 non-null  float64\n",
      " 8   airport_fee           67969 non-null  float64\n",
      " 9   week_of_day           67969 non-null  int64  \n",
      " 10  day                   67969 non-null  int64  \n",
      " 11  hours                 67969 non-null  int64  \n",
      " 12  isweekend             67969 non-null  int32  \n",
      " 13  duration              67969 non-null  float64\n",
      " 14  airport_pickup        67969 non-null  int32  \n",
      " 15  VendorID              67969 non-null  object \n",
      " 16  RatecodeID            67969 non-null  object \n",
      " 17  store_and_fwd_flag    67969 non-null  object \n",
      " 18  payment_type          67969 non-null  object \n",
      " 19  day_cut               67969 non-null  object \n",
      " 20  hour_cat              67969 non-null  object \n",
      " 21  duration_cat          67969 non-null  object \n",
      " 22  fare_cut              67969 non-null  object \n",
      "dtypes: float64(10), int32(2), int64(3), object(8)\n",
      "memory usage: 11.9+ MB\n"
     ]
    }
   ],
   "source": [
    "taxi_final.info()"
   ]
  },
  {
   "cell_type": "markdown",
   "id": "ec5eda40",
   "metadata": {},
   "source": [
    "### Multicolinearity"
   ]
  },
  {
   "cell_type": "code",
   "execution_count": 95,
   "id": "de26df22",
   "metadata": {},
   "outputs": [
    {
     "data": {
      "text/plain": [
       "<AxesSubplot:>"
      ]
     },
     "execution_count": 95,
     "metadata": {},
     "output_type": "execute_result"
    },
    {
     "data": {
      "image/png": "[encoded data removed]",
      "text/plain": [
       "<Figure size 792x432 with 2 Axes>"
      ]
     },
     "metadata": {
      "needs_background": "light"
     },
     "output_type": "display_data"
    }
   ],
   "source": [
    "cr=taxi_final.corr()\n",
    "plt.figure(figsize=(11,6))\n",
    "sns.heatmap(cr,annot=True, cmap='coolwarm')"
   ]
  },
  {
   "cell_type": "code",
   "execution_count": 96,
   "id": "a48a8be5",
   "metadata": {},
   "outputs": [
    {
     "data": {
      "text/plain": [
       "<AxesSubplot:>"
      ]
     },
     "execution_count": 96,
     "metadata": {},
     "output_type": "execute_result"
    },
    {
     "data": {
      "image/png": "[encoded data removed]",
      "text/plain": [
       "<Figure size 792x432 with 2 Axes>"
      ]
     },
     "metadata": {
      "needs_background": "light"
     },
     "output_type": "display_data"
    }
   ],
   "source": [
    "cr=cr[abs(cr)>.7]\n",
    "plt.figure(figsize=(11,6))\n",
    "sns.heatmap(cr,annot=True, cmap='coolwarm')"
   ]
  },
  {
   "cell_type": "code",
   "execution_count": 97,
   "id": "adfe110d",
   "metadata": {},
   "outputs": [],
   "source": [
    "taxi_final.drop(columns=['fare_cut','duration_cat'],inplace=True)"
   ]
  },
  {
   "cell_type": "markdown",
   "id": "5d12066d",
   "metadata": {},
   "source": [
    "### Dummy Creation"
   ]
  },
  {
   "cell_type": "code",
   "execution_count": 98,
   "id": "e34b1f00",
   "metadata": {},
   "outputs": [
    {
     "name": "stderr",
     "output_type": "stream",
     "text": [
      "C:\\Users\\ABHAY\\anaconda3\\lib\\site-packages\\pandas\\core\\algorithms.py:798: FutureWarning: In a future version, the Index constructor will not infer numeric dtypes when passed object-dtype sequences (matching Series behavior)\n",
      "  uniques = Index(uniques)\n"
     ]
    }
   ],
   "source": [
    "final=pd.get_dummies(data=taxi_final, drop_first=True)"
   ]
  },
  {
   "cell_type": "code",
   "execution_count": 99,
   "id": "92397c96",
   "metadata": {},
   "outputs": [
    {
     "data": {
      "text/html": [
       "<div>\n",
       "<style scoped>\n",
       "    .dataframe tbody tr th:only-of-type {\n",
       "        vertical-align: middle;\n",
       "    }\n",
       "\n",
       "    .dataframe tbody tr th {\n",
       "        vertical-align: top;\n",
       "    }\n",
       "\n",
       "    .dataframe thead th {\n",
       "        text-align: right;\n",
       "    }\n",
       "</style>\n",
       "<table border=\"1\" class=\"dataframe\">\n",
       "  <thead>\n",
       "    <tr style=\"text-align: right;\">\n",
       "      <th></th>\n",
       "      <th>passenger_count</th>\n",
       "      <th>trip_distance</th>\n",
       "      <th>extra</th>\n",
       "      <th>mta_tax</th>\n",
       "      <th>tip_amount</th>\n",
       "      <th>tolls_amount</th>\n",
       "      <th>total_amount</th>\n",
       "      <th>congestion_surcharge</th>\n",
       "      <th>airport_fee</th>\n",
       "      <th>week_of_day</th>\n",
       "      <th>...</th>\n",
       "      <th>payment_type_Credit card</th>\n",
       "      <th>payment_type_Dispute</th>\n",
       "      <th>payment_type_No charge</th>\n",
       "      <th>day_cut_mid_of_month</th>\n",
       "      <th>day_cut_starting_of_month</th>\n",
       "      <th>hour_cat_early_morning</th>\n",
       "      <th>hour_cat_evening</th>\n",
       "      <th>hour_cat_mid_night</th>\n",
       "      <th>hour_cat_morning</th>\n",
       "      <th>hour_cat_night</th>\n",
       "    </tr>\n",
       "  </thead>\n",
       "  <tbody>\n",
       "    <tr>\n",
       "      <th>11293</th>\n",
       "      <td>1.0</td>\n",
       "      <td>1.75</td>\n",
       "      <td>0.0</td>\n",
       "      <td>0.5</td>\n",
       "      <td>2.00</td>\n",
       "      <td>0.0</td>\n",
       "      <td>14.80</td>\n",
       "      <td>2.5</td>\n",
       "      <td>0.0</td>\n",
       "      <td>2</td>\n",
       "      <td>...</td>\n",
       "      <td>1</td>\n",
       "      <td>0</td>\n",
       "      <td>0</td>\n",
       "      <td>0</td>\n",
       "      <td>1</td>\n",
       "      <td>0</td>\n",
       "      <td>0</td>\n",
       "      <td>0</td>\n",
       "      <td>1</td>\n",
       "      <td>0</td>\n",
       "    </tr>\n",
       "    <tr>\n",
       "      <th>3241804</th>\n",
       "      <td>1.0</td>\n",
       "      <td>9.16</td>\n",
       "      <td>0.0</td>\n",
       "      <td>0.5</td>\n",
       "      <td>0.00</td>\n",
       "      <td>0.0</td>\n",
       "      <td>39.30</td>\n",
       "      <td>2.5</td>\n",
       "      <td>0.0</td>\n",
       "      <td>2</td>\n",
       "      <td>...</td>\n",
       "      <td>0</td>\n",
       "      <td>0</td>\n",
       "      <td>0</td>\n",
       "      <td>0</td>\n",
       "      <td>0</td>\n",
       "      <td>0</td>\n",
       "      <td>0</td>\n",
       "      <td>0</td>\n",
       "      <td>0</td>\n",
       "      <td>0</td>\n",
       "    </tr>\n",
       "    <tr>\n",
       "      <th>2122208</th>\n",
       "      <td>1.0</td>\n",
       "      <td>5.00</td>\n",
       "      <td>3.0</td>\n",
       "      <td>0.5</td>\n",
       "      <td>2.00</td>\n",
       "      <td>0.0</td>\n",
       "      <td>25.80</td>\n",
       "      <td>2.5</td>\n",
       "      <td>0.0</td>\n",
       "      <td>6</td>\n",
       "      <td>...</td>\n",
       "      <td>1</td>\n",
       "      <td>0</td>\n",
       "      <td>0</td>\n",
       "      <td>1</td>\n",
       "      <td>0</td>\n",
       "      <td>0</td>\n",
       "      <td>0</td>\n",
       "      <td>1</td>\n",
       "      <td>0</td>\n",
       "      <td>0</td>\n",
       "    </tr>\n",
       "    <tr>\n",
       "      <th>645015</th>\n",
       "      <td>1.0</td>\n",
       "      <td>3.02</td>\n",
       "      <td>1.0</td>\n",
       "      <td>0.5</td>\n",
       "      <td>1.78</td>\n",
       "      <td>0.0</td>\n",
       "      <td>19.58</td>\n",
       "      <td>2.5</td>\n",
       "      <td>0.0</td>\n",
       "      <td>0</td>\n",
       "      <td>...</td>\n",
       "      <td>1</td>\n",
       "      <td>0</td>\n",
       "      <td>0</td>\n",
       "      <td>0</td>\n",
       "      <td>1</td>\n",
       "      <td>0</td>\n",
       "      <td>1</td>\n",
       "      <td>0</td>\n",
       "      <td>0</td>\n",
       "      <td>0</td>\n",
       "    </tr>\n",
       "    <tr>\n",
       "      <th>1752107</th>\n",
       "      <td>1.0</td>\n",
       "      <td>3.53</td>\n",
       "      <td>0.5</td>\n",
       "      <td>0.5</td>\n",
       "      <td>2.74</td>\n",
       "      <td>0.0</td>\n",
       "      <td>21.04</td>\n",
       "      <td>2.5</td>\n",
       "      <td>0.0</td>\n",
       "      <td>2</td>\n",
       "      <td>...</td>\n",
       "      <td>1</td>\n",
       "      <td>0</td>\n",
       "      <td>0</td>\n",
       "      <td>1</td>\n",
       "      <td>0</td>\n",
       "      <td>0</td>\n",
       "      <td>0</td>\n",
       "      <td>0</td>\n",
       "      <td>0</td>\n",
       "      <td>1</td>\n",
       "    </tr>\n",
       "  </tbody>\n",
       "</table>\n",
       "<p>5 rows × 32 columns</p>\n",
       "</div>"
      ],
      "text/plain": [
       "         passenger_count  trip_distance  extra  mta_tax  tip_amount  \\\n",
       "11293                1.0           1.75    0.0      0.5        2.00   \n",
       "3241804              1.0           9.16    0.0      0.5        0.00   \n",
       "2122208              1.0           5.00    3.0      0.5        2.00   \n",
       "645015               1.0           3.02    1.0      0.5        1.78   \n",
       "1752107              1.0           3.53    0.5      0.5        2.74   \n",
       "\n",
       "         tolls_amount  total_amount  congestion_surcharge  airport_fee  \\\n",
       "11293             0.0         14.80                   2.5          0.0   \n",
       "3241804           0.0         39.30                   2.5          0.0   \n",
       "2122208           0.0         25.80                   2.5          0.0   \n",
       "645015            0.0         19.58                   2.5          0.0   \n",
       "1752107           0.0         21.04                   2.5          0.0   \n",
       "\n",
       "         week_of_day  ...  payment_type_Credit card  payment_type_Dispute  \\\n",
       "11293              2  ...                         1                     0   \n",
       "3241804            2  ...                         0                     0   \n",
       "2122208            6  ...                         1                     0   \n",
       "645015             0  ...                         1                     0   \n",
       "1752107            2  ...                         1                     0   \n",
       "\n",
       "         payment_type_No charge  day_cut_mid_of_month  \\\n",
       "11293                         0                     0   \n",
       "3241804                       0                     0   \n",
       "2122208                       0                     1   \n",
       "645015                        0                     0   \n",
       "1752107                       0                     1   \n",
       "\n",
       "         day_cut_starting_of_month  hour_cat_early_morning  hour_cat_evening  \\\n",
       "11293                            1                       0                 0   \n",
       "3241804                          0                       0                 0   \n",
       "2122208                          0                       0                 0   \n",
       "645015                           1                       0                 1   \n",
       "1752107                          0                       0                 0   \n",
       "\n",
       "         hour_cat_mid_night  hour_cat_morning  hour_cat_night  \n",
       "11293                     0                 1               0  \n",
       "3241804                   0                 0               0  \n",
       "2122208                   1                 0               0  \n",
       "645015                    0                 0               0  \n",
       "1752107                   0                 0               1  \n",
       "\n",
       "[5 rows x 32 columns]"
      ]
     },
     "execution_count": 99,
     "metadata": {},
     "output_type": "execute_result"
    }
   ],
   "source": [
    "final.head()"
   ]
  },
  {
   "cell_type": "markdown",
   "id": "46c18255",
   "metadata": {},
   "source": [
    "### Model Development"
   ]
  },
  {
   "cell_type": "code",
   "execution_count": 100,
   "id": "4e0470ed",
   "metadata": {
    "scrolled": true
   },
   "outputs": [],
   "source": [
    "from sklearn.ensemble import RandomForestRegressor\n",
    "from sklearn.model_selection import GridSearchCV, train_test_split, RandomizedSearchCV"
   ]
  },
  {
   "cell_type": "code",
   "execution_count": 101,
   "id": "96436c92",
   "metadata": {},
   "outputs": [],
   "source": [
    "y=final['total_amount']\n",
    "x=final.drop(columns=['total_amount'])"
   ]
  },
  {
   "cell_type": "code",
   "execution_count": 102,
   "id": "3df18c91",
   "metadata": {},
   "outputs": [],
   "source": [
    "x_train, x_test, y_train, y_test=train_test_split(x,y,test_size=.3,random_state=0)"
   ]
  },
  {
   "cell_type": "code",
   "execution_count": 103,
   "id": "1598b959",
   "metadata": {},
   "outputs": [
    {
     "data": {
      "text/plain": [
       "RandomForestRegressor()"
      ]
     },
     "execution_count": 103,
     "metadata": {},
     "output_type": "execute_result"
    }
   ],
   "source": [
    "rfr=RandomForestRegressor()\n",
    "rfr.fit(x_train,y_train)"
   ]
  },
  {
   "cell_type": "code",
   "execution_count": 104,
   "id": "001e2bd6",
   "metadata": {},
   "outputs": [
    {
     "name": "stdout",
     "output_type": "stream",
     "text": [
      "Train_score 0.9974023234992128\n",
      "Test_score 0.9834840540373749\n"
     ]
    }
   ],
   "source": [
    "print('Train_score',rfr.score(x_train,y_train))\n",
    "print('Test_score',rfr.score(x_test,y_test))"
   ]
  },
  {
   "cell_type": "code",
   "execution_count": null,
   "id": "8f75fd9d",
   "metadata": {},
   "outputs": [],
   "source": [
    "pred_train=rfr.predict(x_train)\n",
    "pred_test=rfr.predict(x_test)"
   ]
  },
  {
   "cell_type": "code",
   "execution_count": null,
   "id": "04030305",
   "metadata": {},
   "outputs": [],
   "source": [
    "print(\"Train MSE\", np.mean((pred_train-y_train)**(2)))\n",
    "print(\"Train rmse\", np.sqrt(np.mean((pred_train-y_train)**(2))))\n",
    "print(\"Train MAE\",  np.mean(np.abs(pred_train-y_train)))\n",
    "print(\"Train MAPE\",  np.mean(np.abs((pred_train-y_train)/y_train)))"
   ]
  },
  {
   "cell_type": "code",
   "execution_count": 124,
   "id": "70ea40a4",
   "metadata": {},
   "outputs": [
    {
     "name": "stdout",
     "output_type": "stream",
     "text": [
      "Test MSE 4.219647767290192\n",
      "Test rmse 2.0541781245282\n",
      "Test MAE 0.511030107236855\n",
      "Test MAPE 0.02274932844365742\n"
     ]
    }
   ],
   "source": [
    "print(\"Test MSE\", np.mean((pred_test-y_test)**(2)))\n",
    "print(\"Test rmse\", np.sqrt(np.mean((pred_test-y_test)**(2))))\n",
    "print(\"Test MAE\",  np.mean(np.abs(pred_test-y_test)))\n",
    "print(\"Test MAPE\",  np.mean(np.abs((pred_test-y_test)/y_test)))"
   ]
  },
  {
   "cell_type": "code",
   "execution_count": null,
   "id": "d904a4e8",
   "metadata": {},
   "outputs": [
    {
     "name": "stdout",
     "output_type": "stream",
     "text": [
      "Fitting 10 folds for each of 576 candidates, totalling 5760 fits\n"
     ]
    }
   ],
   "source": [
    "import time\n",
    "tic=time.time()\n",
    "\n",
    "params={'n_estimators':[100,150,200],\n",
    "         'criterion': ['squared_error','absolute_error'],\n",
    "         'max_depth': [7,9,11,15],\n",
    "         'min_samples_split': [50,100,200],\n",
    "         'min_samples_leaf': [5,10,15,20],\n",
    "         'max_features':['sqrt','log2'],\n",
    "         'bootstrap':[True]\n",
    "        }\n",
    "rfr1=RandomForestRegressor()\n",
    "gs_rfr=GridSearchCV(estimator=rfr1, param_grid=params, cv=10, n_jobs=-1, verbose=1)\n",
    "gs_rfr.fit(x_train,y_train)\n",
    "\n",
    "toc=time.time()\n",
    "print('\\n Total time taken :', toc-tic)"
   ]
  }
 ],
 "metadata": {
  "kernelspec": {
   "display_name": "Python 3 (ipykernel)",
   "language": "python",
   "name": "python3"
  },
  "language_info": {
   "codemirror_mode": {
    "name": "ipython",
    "version": 3
   },
   "file_extension": ".py",
   "mimetype": "text/x-python",
   "name": "python",
   "nbconvert_exporter": "python",
   "pygments_lexer": "ipython3",
   "version": "3.9.13"
  }
 },
 "nbformat": 4,
 "nbformat_minor": 5
}
